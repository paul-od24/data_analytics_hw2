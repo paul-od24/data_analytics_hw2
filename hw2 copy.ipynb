{
 "cells": [
  {
   "attachments": {},
   "cell_type": "markdown",
   "metadata": {},
   "source": [
    "<h2>Data Analytics Homework 2 - David Mallon (08597596) & Paul O'Donovan (22208104)</h2>"
   ]
  },
  {
   "attachments": {},
   "cell_type": "markdown",
   "metadata": {},
   "source": [
    "Prepare a data quality report for your CSV file. "
   ]
  },
  {
   "cell_type": "code",
   "execution_count": 332,
   "metadata": {},
   "outputs": [],
   "source": [
    "import pandas as pd\n",
    "import numpy as np\n",
    "import seaborn as sns\n",
    "import matplotlib.pyplot as plt\n",
    "import matplotlib.patches as mpatches\n",
    "from sklearn.metrics import mean_squared_error\n",
    "from sklearn.impute import SimpleImputer\n",
    "\n",
    "from patsy import dmatrices\n",
    "\n",
    "from sklearn.linear_model import LinearRegression\n",
    "from sklearn.linear_model import LogisticRegression\n",
    "from sklearn.tree import DecisionTreeClassifier\n",
    "from sklearn.ensemble import RandomForestClassifier\n",
    "from sklearn.model_selection import train_test_split\n",
    "from sklearn import metrics\n",
    "from sklearn.model_selection import cross_validate\n",
    "from sklearn.model_selection import cross_val_score\n",
    "from sklearn.tree import export_graphviz\n",
    "from sklearn.metrics import accuracy_score, confusion_matrix, precision_score, recall_score, f1_score\n",
    "from sklearn.model_selection import RepeatedKFold\n",
    "\n",
    "import graphviz\n",
    "from graphviz import Source\n",
    "\n",
    "# ignore warnings\n",
    "import warnings\n",
    "warnings.filterwarnings('ignore')"
   ]
  },
  {
   "attachments": {},
   "cell_type": "markdown",
   "metadata": {},
   "source": [
    "# (1) Data understanding and prep:\n",
    "\n",
    "The original datasets from the CDC has been cleaned (Homework1) and is now imported as a starting point for this work. \n",
    "1. The accompanying data quality report from Homeowork1 can be found attached as PDF as a background to this cleaned dataset;\n",
    "2. A summary of this plan can be seen in the table below;\n"
   ]
  },
  {
   "cell_type": "code",
   "execution_count": 333,
   "metadata": {},
   "outputs": [],
   "source": [
    "# Reading from a csv file, into a data frame\n",
    "df1 = pd.read_csv('covid19-cdc-22208104.csv', keep_default_na=True, delimiter=',', engine='python', skipinitialspace=True)\n",
    "\n",
    "# Reading from a csv file, into a data frame\n",
    "df2 = pd.read_csv('covid19-cdc-8597596.csv', keep_default_na=True, delimiter=',', engine='python', skipinitialspace=True)\n",
    "\n",
    "# Concatenate the data frames\n",
    "df = pd.concat([df1, df2], axis=0)"
   ]
  },
  {
   "attachments": {},
   "cell_type": "markdown",
   "metadata": {},
   "source": [
    "Check how many rows and columns this dataframe has. Also get a summary of columns"
   ]
  },
  {
   "cell_type": "code",
   "execution_count": 334,
   "metadata": {},
   "outputs": [
    {
     "name": "stdout",
     "output_type": "stream",
     "text": [
      "Number of rows and columns: (40000, 19)\n",
      "<class 'pandas.core.frame.DataFrame'>\n",
      "Int64Index: 40000 entries, 0 to 19999\n",
      "Data columns (total 19 columns):\n",
      " #   Column                           Non-Null Count  Dtype  \n",
      "---  ------                           --------------  -----  \n",
      " 0   case_month                       40000 non-null  object \n",
      " 1   res_state                        39999 non-null  object \n",
      " 2   state_fips_code                  39999 non-null  float64\n",
      " 3   res_county                       37702 non-null  object \n",
      " 4   county_fips_code                 37702 non-null  float64\n",
      " 5   age_group                        39740 non-null  object \n",
      " 6   sex                              39234 non-null  object \n",
      " 7   race                             35303 non-null  object \n",
      " 8   ethnicity                        34875 non-null  object \n",
      " 9   case_positive_specimen_interval  20865 non-null  float64\n",
      " 10  case_onset_interval              17552 non-null  float64\n",
      " 11  process                          40000 non-null  object \n",
      " 12  exposure_yn                      40000 non-null  object \n",
      " 13  current_status                   40000 non-null  object \n",
      " 14  symptom_status                   40000 non-null  object \n",
      " 15  hosp_yn                          40000 non-null  object \n",
      " 16  icu_yn                           40000 non-null  object \n",
      " 17  death_yn                         40000 non-null  object \n",
      " 18  underlying_conditions_yn         3495 non-null   object \n",
      "dtypes: float64(4), object(15)\n",
      "memory usage: 6.1+ MB\n"
     ]
    }
   ],
   "source": [
    "print(\"Number of rows and columns:\", df.shape)\n",
    "df.info()\n"
   ]
  },
  {
   "cell_type": "code",
   "execution_count": 335,
   "metadata": {},
   "outputs": [
    {
     "data": {
      "text/html": [
       "<div>\n",
       "<style scoped>\n",
       "    .dataframe tbody tr th:only-of-type {\n",
       "        vertical-align: middle;\n",
       "    }\n",
       "\n",
       "    .dataframe tbody tr th {\n",
       "        vertical-align: top;\n",
       "    }\n",
       "\n",
       "    .dataframe thead th {\n",
       "        text-align: right;\n",
       "    }\n",
       "</style>\n",
       "<table border=\"1\" class=\"dataframe\">\n",
       "  <thead>\n",
       "    <tr style=\"text-align: right;\">\n",
       "      <th></th>\n",
       "      <th>count</th>\n",
       "      <th>mean</th>\n",
       "      <th>std</th>\n",
       "      <th>min</th>\n",
       "      <th>25%</th>\n",
       "      <th>50%</th>\n",
       "      <th>75%</th>\n",
       "      <th>max</th>\n",
       "    </tr>\n",
       "  </thead>\n",
       "  <tbody>\n",
       "    <tr>\n",
       "      <th>state_fips_code</th>\n",
       "      <td>39999.0</td>\n",
       "      <td>29.556239</td>\n",
       "      <td>13.341753</td>\n",
       "      <td>1.0</td>\n",
       "      <td>19.0</td>\n",
       "      <td>34.0</td>\n",
       "      <td>37.0</td>\n",
       "      <td>78.0</td>\n",
       "    </tr>\n",
       "    <tr>\n",
       "      <th>county_fips_code</th>\n",
       "      <td>37702.0</td>\n",
       "      <td>29578.939605</td>\n",
       "      <td>13211.869250</td>\n",
       "      <td>1001.0</td>\n",
       "      <td>18163.0</td>\n",
       "      <td>34017.0</td>\n",
       "      <td>37183.0</td>\n",
       "      <td>56039.0</td>\n",
       "    </tr>\n",
       "    <tr>\n",
       "      <th>case_positive_specimen_interval</th>\n",
       "      <td>20865.0</td>\n",
       "      <td>0.194201</td>\n",
       "      <td>2.312371</td>\n",
       "      <td>-90.0</td>\n",
       "      <td>0.0</td>\n",
       "      <td>0.0</td>\n",
       "      <td>0.0</td>\n",
       "      <td>94.0</td>\n",
       "    </tr>\n",
       "    <tr>\n",
       "      <th>case_onset_interval</th>\n",
       "      <td>17552.0</td>\n",
       "      <td>-0.057714</td>\n",
       "      <td>1.800305</td>\n",
       "      <td>-60.0</td>\n",
       "      <td>0.0</td>\n",
       "      <td>0.0</td>\n",
       "      <td>0.0</td>\n",
       "      <td>69.0</td>\n",
       "    </tr>\n",
       "  </tbody>\n",
       "</table>\n",
       "</div>"
      ],
      "text/plain": [
       "                                   count          mean           std     min  \\\n",
       "state_fips_code                  39999.0     29.556239     13.341753     1.0   \n",
       "county_fips_code                 37702.0  29578.939605  13211.869250  1001.0   \n",
       "case_positive_specimen_interval  20865.0      0.194201      2.312371   -90.0   \n",
       "case_onset_interval              17552.0     -0.057714      1.800305   -60.0   \n",
       "\n",
       "                                     25%      50%      75%      max  \n",
       "state_fips_code                     19.0     34.0     37.0     78.0  \n",
       "county_fips_code                 18163.0  34017.0  37183.0  56039.0  \n",
       "case_positive_specimen_interval      0.0      0.0      0.0     94.0  \n",
       "case_onset_interval                  0.0      0.0      0.0     69.0  "
      ]
     },
     "execution_count": 335,
     "metadata": {},
     "output_type": "execute_result"
    }
   ],
   "source": [
    "df.describe().T"
   ]
  },
  {
   "attachments": {},
   "cell_type": "markdown",
   "metadata": {},
   "source": [
    "Per the above results, I am missing 2298 pieces of information for county_fips_code. This is fine in my opinion as I have the almost full 39999 pieces of information for state_fips_code which will suffice for the purposes of this examination. The county_fips_code is not crucial and is sufficiently replaced and supplemented by the state_fips_code data.\n",
    "\n",
    "In relation to the missing / blank data for case_positive_specimen_interval, I will consider both sets of data in section 2 (my data quality plan) as I will consider their inclusion, possible amendments/corrections and any links that can be made with other provided information."
   ]
  },
  {
   "cell_type": "code",
   "execution_count": 336,
   "metadata": {},
   "outputs": [
    {
     "data": {
      "text/plain": [
       "Index(['case_month', 'res_state', 'state_fips_code', 'res_county',\n",
       "       'county_fips_code', 'age_group', 'sex', 'race', 'ethnicity',\n",
       "       'case_positive_specimen_interval', 'case_onset_interval', 'process',\n",
       "       'exposure_yn', 'current_status', 'symptom_status', 'hosp_yn', 'icu_yn',\n",
       "       'death_yn', 'underlying_conditions_yn'],\n",
       "      dtype='object')"
      ]
     },
     "execution_count": 336,
     "metadata": {},
     "output_type": "execute_result"
    }
   ],
   "source": [
    "# Look at column names. Ensure there are not spaces in or after the name\n",
    "df.columns"
   ]
  },
  {
   "attachments": {},
   "cell_type": "markdown",
   "metadata": {},
   "source": [
    "Neither the state_fips_code and county_fips_code data represents a continuous range of values, but instead represent specific states and counties respectively, which are both categorical attributes. Both these datasets are better treated as categorical variables, which will help us understand the distribution of the data and any relationships or patterns that may exist between the state codes and other variables in the dataset."
   ]
  },
  {
   "cell_type": "code",
   "execution_count": 337,
   "metadata": {},
   "outputs": [
    {
     "name": "stdout",
     "output_type": "stream",
     "text": [
      "<class 'pandas.core.frame.DataFrame'>\n",
      "Int64Index: 40000 entries, 0 to 19999\n",
      "Data columns (total 19 columns):\n",
      " #   Column                           Non-Null Count  Dtype   \n",
      "---  ------                           --------------  -----   \n",
      " 0   case_month                       40000 non-null  category\n",
      " 1   res_state                        39999 non-null  category\n",
      " 2   state_fips_code                  39999 non-null  category\n",
      " 3   res_county                       37702 non-null  category\n",
      " 4   county_fips_code                 37702 non-null  category\n",
      " 5   age_group                        39740 non-null  category\n",
      " 6   sex                              39234 non-null  category\n",
      " 7   race                             35303 non-null  category\n",
      " 8   ethnicity                        34875 non-null  category\n",
      " 9   case_positive_specimen_interval  20865 non-null  float64 \n",
      " 10  case_onset_interval              17552 non-null  float64 \n",
      " 11  process                          40000 non-null  category\n",
      " 12  exposure_yn                      40000 non-null  category\n",
      " 13  current_status                   40000 non-null  category\n",
      " 14  symptom_status                   40000 non-null  category\n",
      " 15  hosp_yn                          40000 non-null  category\n",
      " 16  icu_yn                           40000 non-null  category\n",
      " 17  death_yn                         40000 non-null  category\n",
      " 18  underlying_conditions_yn         3495 non-null   category\n",
      "dtypes: category(17), float64(2)\n",
      "memory usage: 1.7 MB\n"
     ]
    }
   ],
   "source": [
    "df[\"state_fips_code\"] = df[\"state_fips_code\"].astype(\"object\")\n",
    "df[\"county_fips_code\"] = df[\"county_fips_code\"].astype(\"object\")\n",
    "\n",
    "#Select all columns of type 'object'\n",
    "object_columns = df.select_dtypes(['object']).columns\n",
    "\n",
    "#Convert selected columns to type 'category' purely for ease of reference when reviewing categorical and continuous characteristics.\n",
    "for column in object_columns:\n",
    "    df[column] = df[column].astype('category')\n",
    "\n",
    "df.info()"
   ]
  },
  {
   "attachments": {},
   "cell_type": "markdown",
   "metadata": {},
   "source": [
    "Convert the features to their appropriate data types (e.g., decide which features are more appropriate as continuous and which ones as categorical types)."
   ]
  },
  {
   "attachments": {},
   "cell_type": "markdown",
   "metadata": {},
   "source": [
    "Look for duplicate rows and columns. Consider whether it makes sense to keep them or drop them."
   ]
  },
  {
   "cell_type": "code",
   "execution_count": 338,
   "metadata": {},
   "outputs": [
    {
     "name": "stdout",
     "output_type": "stream",
     "text": [
      "Number of duplicate (excluding first original occurence) rows in the table is:  3639\n",
      "Number of duplicate rows (including first original occurence) in the table is: 6178\n"
     ]
    }
   ],
   "source": [
    "#Print the number of duplicates, without the original rows that were duplicated\n",
    "print('Number of duplicate (excluding first original occurence) rows in the table is: ', df.duplicated().sum())\n",
    "\n",
    "# Check for duplicate rows. \n",
    "# Use \"keep=False\" to mark all duplicates as true, including the original rows that were duplicated.\n",
    "print('Number of duplicate rows (including first original occurence) in the table is:', df[df.duplicated(keep=False)].shape[0])"
   ]
  },
  {
   "cell_type": "code",
   "execution_count": 339,
   "metadata": {},
   "outputs": [],
   "source": [
    "view_duplicates = df[df.duplicated(keep = False)]\n",
    "view_duplicates.to_csv('duplicate_columns.csv', index=False)"
   ]
  },
  {
   "attachments": {},
   "cell_type": "markdown",
   "metadata": {},
   "source": [
    "Having reviewed the duplicates (as set out in a separate csv I prepared), I was satisfied that these should stay in the dataframe. As the information contained therein has been intentionally anonymised, there are not enough specific identifiers relating to each patient's data which would justify removing the duplicates. I believe it better to err on the side of caution and not remove what could (and probably is) information recorded which is identical but actually relates to different individuals, rather than remove valid information on the assumption that it is a duplicate entry."
   ]
  },
  {
   "cell_type": "code",
   "execution_count": 340,
   "metadata": {},
   "outputs": [
    {
     "name": "stdout",
     "output_type": "stream",
     "text": [
      "      case_month res_state state_fips_code   res_county county_fips_code  \\\n",
      "235      2020-03        NY            36.0       QUEENS          36081.0   \n",
      "274      2021-01        CA             6.0  LOS ANGELES           6037.0   \n",
      "289      2020-12        CA             6.0  LOS ANGELES           6037.0   \n",
      "373      2021-01        FL            12.0   MIAMI-DADE          12086.0   \n",
      "476      2021-12        IL            17.0         COOK          17031.0   \n",
      "...          ...       ...             ...          ...              ...   \n",
      "19933    2020-07        TX            48.0      TARRANT          48439.0   \n",
      "19934    2022-01        IN            18.0       MARION          18097.0   \n",
      "19941    2021-12        NJ            34.0        OCEAN          34029.0   \n",
      "19944    2022-01        IN            18.0       GIBSON          18051.0   \n",
      "19972    2022-01        MN            27.0     HENNEPIN          27053.0   \n",
      "\n",
      "            age_group      sex     race            ethnicity  \\\n",
      "235         65+ years   Female    Black  Non-Hispanic/Latino   \n",
      "274         65+ years     Male    White      Hispanic/Latino   \n",
      "289    18 to 49 years     Male    White      Hispanic/Latino   \n",
      "373         65+ years   Female    Black  Non-Hispanic/Latino   \n",
      "476         65+ years     Male    White  Non-Hispanic/Latino   \n",
      "...               ...      ...      ...                  ...   \n",
      "19933  50 to 64 years     Male  Unknown              Unknown   \n",
      "19934  18 to 49 years   Female    Black  Non-Hispanic/Latino   \n",
      "19941  50 to 64 years   Female    White  Non-Hispanic/Latino   \n",
      "19944  18 to 49 years     Male    White  Non-Hispanic/Latino   \n",
      "19972  18 to 49 years  Unknown  Unknown              Missing   \n",
      "\n",
      "       case_positive_specimen_interval  case_onset_interval  process  \\\n",
      "235                                0.0                  NaN  Missing   \n",
      "274                                NaN                  NaN  Missing   \n",
      "289                                NaN                  NaN  Missing   \n",
      "373                                0.0                  NaN  Missing   \n",
      "476                                1.0                  0.0  Missing   \n",
      "...                                ...                  ...      ...   \n",
      "19933                              NaN                  NaN  Missing   \n",
      "19934                              0.0                  NaN  Missing   \n",
      "19941                              0.0                  NaN  Missing   \n",
      "19944                              0.0                  NaN  Missing   \n",
      "19972                              0.0                  NaN  Missing   \n",
      "\n",
      "      exposure_yn             current_status symptom_status  hosp_yn   icu_yn  \\\n",
      "235       Missing  Laboratory-confirmed case        Unknown      Yes  Unknown   \n",
      "274       Missing  Laboratory-confirmed case        Unknown      Yes  Unknown   \n",
      "289       Missing  Laboratory-confirmed case        Unknown      Yes      Yes   \n",
      "373       Missing  Laboratory-confirmed case        Missing      Yes  Missing   \n",
      "476       Missing  Laboratory-confirmed case        Missing      Yes  Missing   \n",
      "...           ...                        ...            ...      ...      ...   \n",
      "19933     Missing  Laboratory-confirmed case        Missing  Missing  Missing   \n",
      "19934     Missing  Laboratory-confirmed case        Missing       No  Missing   \n",
      "19941     Missing  Laboratory-confirmed case        Missing       No  Missing   \n",
      "19944     Missing  Laboratory-confirmed case        Missing       No  Missing   \n",
      "19972     Missing              Probable Case        Missing  Missing  Missing   \n",
      "\n",
      "      death_yn underlying_conditions_yn  \n",
      "235        Yes                      Yes  \n",
      "274        Yes                      NaN  \n",
      "289        Yes                      NaN  \n",
      "373        Yes                      NaN  \n",
      "476        Yes                      NaN  \n",
      "...        ...                      ...  \n",
      "19933       No                      NaN  \n",
      "19934       No                      NaN  \n",
      "19941       No                      NaN  \n",
      "19944       No                      NaN  \n",
      "19972       No                      NaN  \n",
      "\n",
      "[3639 rows x 19 columns]\n"
     ]
    }
   ],
   "source": [
    "# quick view of duplicates\n",
    "duplicate = df[df.duplicated()]\n",
    "print(duplicate)\n",
    " "
   ]
  },
  {
   "attachments": {},
   "cell_type": "markdown",
   "metadata": {},
   "source": [
    "Checking if any duplicate columns present.\n",
    "\n",
    "Function sourced from https://www.geeksforgeeks.org/how-to-find-drop-duplicate-columns-in-a-pandas-dataframe/ "
   ]
  },
  {
   "cell_type": "code",
   "execution_count": 341,
   "metadata": {},
   "outputs": [],
   "source": [
    "def getDuplicateColumns(df):\n",
    "    duplicateColumnNames = set()\n",
    " \n",
    "    for x in range(df.shape[1]):\n",
    "        col = df.iloc[:, x]\n",
    "        for y in range(x + 1, df.shape[1]):\n",
    "            otherCol = df.iloc[:, y]\n",
    "            if col.equals(otherCol):\n",
    "                duplicateColumnNames.add(df.columns.values[y])\n",
    "    return list(duplicateColumnNames)\n",
    "\n",
    "duplicateColNames = getDuplicateColumns(df)\n",
    "\n",
    "for column in duplicateColNames:\n",
    "    print('Column Name : ', column)"
   ]
  },
  {
   "cell_type": "code",
   "execution_count": 342,
   "metadata": {},
   "outputs": [
    {
     "name": "stdout",
     "output_type": "stream",
     "text": [
      "Number of duplicate (excluding first) columns in the table is:  0\n",
      "Number of duplicate (including first) columns in the table is:  0\n"
     ]
    }
   ],
   "source": [
    "# Check for duplicate columns - additional test\n",
    "#First transpose the df so columns become rows, then apply the same check as above\n",
    "dfT = df.T\n",
    "print(\"Number of duplicate (excluding first) columns in the table is: \", dfT.duplicated().sum())\n",
    "print(\"Number of duplicate (including first) columns in the table is: \",  dfT[dfT.duplicated(keep=False)].shape[0])"
   ]
  },
  {
   "attachments": {},
   "cell_type": "markdown",
   "metadata": {},
   "source": [
    "Look for constant columns. Consider whether it makes sense to keep them or drop them."
   ]
  },
  {
   "cell_type": "code",
   "execution_count": 343,
   "metadata": {},
   "outputs": [
    {
     "name": "stdout",
     "output_type": "stream",
     "text": [
      "Constant columns:  []\n"
     ]
    }
   ],
   "source": [
    "# Check the number of unique values in each column\n",
    "nunique_values = df.nunique()\n",
    "\n",
    "constant_columns = nunique_values[nunique_values == 1].index\n",
    "constant_column_names = list(constant_columns)\n",
    "\n",
    "# Print the names of the constant columns\n",
    "print(\"Constant columns: \", constant_column_names)"
   ]
  },
  {
   "cell_type": "code",
   "execution_count": 344,
   "metadata": {},
   "outputs": [
    {
     "name": "stdout",
     "output_type": "stream",
     "text": [
      "Constant columns:  []\n"
     ]
    }
   ],
   "source": [
    "c = [c for c in df.columns if len(set(df[c])) == 1]\n",
    "print (\"Constant columns: \", c)"
   ]
  },
  {
   "attachments": {},
   "cell_type": "markdown",
   "metadata": {},
   "source": [
    "There are no 100% constant columns present in my dataset, therefore no adjustment is required.\n",
    "I have rechecked the data basing it on a 90% occurrence (when excluding empty cells) for completeness per the below cells and I would opine that the information in both the 'process' and 'underlying_conditions_yn' cells warrant inclusion in the cleaned dataframe due to weighing up the results against the number of empty cells with missing information. Further examination of these features is undertaken in part two of this assignment."
   ]
  },
  {
   "cell_type": "code",
   "execution_count": 345,
   "metadata": {},
   "outputs": [
    {
     "name": "stdout",
     "output_type": "stream",
     "text": [
      "Constant columns:  ['process', 'underlying_conditions_yn']\n"
     ]
    }
   ],
   "source": [
    "#Calculate the percentage of each value in each column, including empty cells\n",
    "value_percentages = df.apply(lambda x: x.value_counts(normalize=True, dropna=False).max())\n",
    "\n",
    "#Select only the columns where the maximum value percentage is >= 0.95\n",
    "constant_columns = value_percentages[value_percentages >= 0.90].index\n",
    "\n",
    "#List the names of the constant columns\n",
    "constant_column_names = list(constant_columns)\n",
    "\n",
    "#Print the names of the constant columns\n",
    "print(\"Constant columns: \", constant_column_names)"
   ]
  },
  {
   "attachments": {},
   "cell_type": "markdown",
   "metadata": {},
   "source": [
    "The information from 'underlying_conditions_yn' is still useful when looking for consideration based on the above commentary. This information will also be useful when preparing my data quality plan and expected results from the bar plots. Further commentary is provided on my logic is provided in both my Data Quality Report and Data Quality Plan."
   ]
  },
  {
   "cell_type": "code",
   "execution_count": 346,
   "metadata": {},
   "outputs": [
    {
     "data": {
      "text/plain": [
       "Yes    3444\n",
       "No       51\n",
       "Name: underlying_conditions_yn, dtype: int64"
      ]
     },
     "execution_count": 346,
     "metadata": {},
     "output_type": "execute_result"
    }
   ],
   "source": [
    "df['underlying_conditions_yn'].value_counts()"
   ]
  },
  {
   "attachments": {},
   "cell_type": "markdown",
   "metadata": {},
   "source": [
    "case_onset_interval - Drop column as this feature has little effect on target outcome <br>\n",
    "case_positive_specimen_interval - Drop column as this feature has little effect on target outcome<br>\n",
    "res_county - Drop column as it is like a duplicate feature to county_fips_code and it is not a unique identifier (eg county with same name in different states).<br>\n",
    "process - Drop column as this feature has little effect on target outcome and has most values missing.<br>\n",
    "exposure_yn - Drop column as this feature has little effect on target outcome and has most values missing.<br>\n",
    "symptom_status - Drop column as this feature has little effect on target outcome and is missing >50% of values<br>\n"
   ]
  },
  {
   "attachments": {},
   "cell_type": "markdown",
   "metadata": {},
   "source": [
    "Convert unknown and null to missing, and take missing values into account when analysing data for the following; <br>\n",
    "age_group<br>\n",
    "sex<br>\n",
    "race <br>\n",
    "ethnicity<br>\n",
    "hosp_yn<br>\n",
    "icu_yn<br>\n"
   ]
  },
  {
   "attachments": {},
   "cell_type": "markdown",
   "metadata": {},
   "source": [
    "Convert null to missing, and take missing values into account when analysing data \n",
    "underlying_conditions_yn"
   ]
  },
  {
   "cell_type": "code",
   "execution_count": 347,
   "metadata": {},
   "outputs": [],
   "source": [
    "# drop the specified columns\n",
    "df = df.drop(columns=[\"case_onset_interval\", \"case_positive_specimen_interval\", \"res_county\", \"process\", \"exposure_yn\", \"symptom_status\", \"state_fips_code\"])"
   ]
  },
  {
   "cell_type": "code",
   "execution_count": 348,
   "metadata": {},
   "outputs": [],
   "source": [
    "# replace \"unknown\" and \"null\" values with NaN\n",
    "df = df.replace([\"unknown\", \"null\"], np.nan)"
   ]
  },
  {
   "cell_type": "code",
   "execution_count": 349,
   "metadata": {},
   "outputs": [],
   "source": [
    "# replace \"null\" values with NaN\n",
    "df[\"underlying_conditions_yn\"] = df[\"underlying_conditions_yn\"].replace(\"null\", np.nan)"
   ]
  },
  {
   "attachments": {},
   "cell_type": "markdown",
   "metadata": {},
   "source": [
    "# Q. Save your updated/cleaned data frame to a new csv file."
   ]
  },
  {
   "cell_type": "code",
   "execution_count": 350,
   "metadata": {},
   "outputs": [
    {
     "name": "stdout",
     "output_type": "stream",
     "text": [
      "<class 'pandas.core.frame.DataFrame'>\n",
      "RangeIndex: 40000 entries, 0 to 39999\n",
      "Data columns (total 12 columns):\n",
      " #   Column                    Non-Null Count  Dtype   \n",
      "---  ------                    --------------  -----   \n",
      " 0   case_month                40000 non-null  category\n",
      " 1   res_state                 39999 non-null  category\n",
      " 2   county_fips_code          37702 non-null  float64 \n",
      " 3   age_group                 39740 non-null  category\n",
      " 4   sex                       39234 non-null  category\n",
      " 5   race                      35303 non-null  category\n",
      " 6   ethnicity                 34875 non-null  category\n",
      " 7   current_status            40000 non-null  category\n",
      " 8   hosp_yn                   40000 non-null  category\n",
      " 9   icu_yn                    40000 non-null  category\n",
      " 10  death_yn                  40000 non-null  category\n",
      " 11  underlying_conditions_yn  3495 non-null   category\n",
      "dtypes: category(11), float64(1)\n",
      "memory usage: 746.8 KB\n"
     ]
    }
   ],
   "source": [
    "# Reading cleaned data into a data frame\n",
    "df = pd.read_csv('cleaned_data_hw2.csv')\n",
    "\n",
    "#Select all columns of type 'object'\n",
    "object_columns = df.select_dtypes(['object']).columns\n",
    "\n",
    "#Convert selected columns to type 'category' purely for ease of reference when reviewing categorical and continuous characteristics.\n",
    "for column in object_columns:\n",
    "    df[column] = df[column].astype('category')\n",
    "\n",
    "# Convert case_month to datetime format\n",
    "df['case_month'] = pd.to_datetime(df['case_month'])\n",
    "\n",
    "df.info()"
   ]
  },
  {
   "cell_type": "code",
   "execution_count": 351,
   "metadata": {},
   "outputs": [],
   "source": [
    "df.to_csv('cleaned_data_hw2.csv', index=False)"
   ]
  },
  {
   "attachments": {},
   "cell_type": "markdown",
   "metadata": {},
   "source": [
    "# (1) Data understanding and prep:\n",
    "\n",
    "The original datasets from the CDC has been cleaned (Homework1) and is now imported as a starting point for this work. \n",
    "1. The accompanying data quality report from Homeowork1 can be found attached as PDF as a background to this cleaned dataset;\n",
    "2. A summary of this plan can be seen in the table below;"
   ]
  },
  {
   "attachments": {
    "image.png": {
     "image/png": "[encoded data removed]"
    }
   },
   "cell_type": "markdown",
   "metadata": {},
   "source": [
    "![image.png](attachment:image.png)"
   ]
  },
  {
   "attachments": {},
   "cell_type": "markdown",
   "metadata": {},
   "source": [
    "The goal in this homework is to work with the data to build and evaluate prediction models that capture the relationship between the descriptive features and the target feature **death_yn**. For this homework you are asked to use the same dataset allocated to you in Homework1 (you can use your cleaned/prepared CSV from Homework1 or start from the raw dataset, clean it according to concepts covered in the lectures/labs, then use it for training prediction models). To use the 2 individual files allocated for Homework1, you can merge them first, then clean the resulting dataset, before starting on Homework2 requirements.\n",
    " \n",
    "There are 5 parts for this homework. Each part has an indicative maximum percentage given in brackets, e.g., part (1) has a maximum of 25% shown as [25]. The total that can be achieved is 100.\n",
    "\n",
    "\n",
    "(1). [25] **Data Understanding and Preparation:** Exploring relationships between feature pairs and selecting/transforming promising features based on a given training set.\n",
    "\n",
    "    \n",
    "    "
   ]
  },
  {
   "attachments": {},
   "cell_type": "markdown",
   "metadata": {},
   "source": [
    "After importing the cleaned csv, as a reminder we will check the shape, inspect the datatypes and check for any remaining null values"
   ]
  },
  {
   "cell_type": "code",
   "execution_count": 352,
   "metadata": {},
   "outputs": [
    {
     "data": {
      "text/plain": [
       "(40000, 12)"
      ]
     },
     "execution_count": 352,
     "metadata": {},
     "output_type": "execute_result"
    }
   ],
   "source": [
    "df.shape"
   ]
  },
  {
   "cell_type": "code",
   "execution_count": 353,
   "metadata": {},
   "outputs": [
    {
     "data": {
      "text/plain": [
       "case_month                  category\n",
       "res_state                   category\n",
       "county_fips_code             float64\n",
       "age_group                   category\n",
       "sex                         category\n",
       "race                        category\n",
       "ethnicity                   category\n",
       "current_status              category\n",
       "hosp_yn                     category\n",
       "icu_yn                      category\n",
       "death_yn                    category\n",
       "underlying_conditions_yn    category\n",
       "dtype: object"
      ]
     },
     "execution_count": 353,
     "metadata": {},
     "output_type": "execute_result"
    }
   ],
   "source": [
    "df.dtypes"
   ]
  },
  {
   "cell_type": "code",
   "execution_count": 354,
   "metadata": {},
   "outputs": [
    {
     "data": {
      "text/plain": [
       "case_month                      0\n",
       "res_state                       1\n",
       "county_fips_code             2298\n",
       "age_group                     260\n",
       "sex                           766\n",
       "race                         4697\n",
       "ethnicity                    5125\n",
       "current_status                  0\n",
       "hosp_yn                         0\n",
       "icu_yn                          0\n",
       "death_yn                        0\n",
       "underlying_conditions_yn    36505\n",
       "dtype: int64"
      ]
     },
     "execution_count": 354,
     "metadata": {},
     "output_type": "execute_result"
    }
   ],
   "source": [
    "df.isna().sum()"
   ]
  },
  {
   "attachments": {},
   "cell_type": "markdown",
   "metadata": {},
   "source": [
    "Convert unknown and null to missing"
   ]
  },
  {
   "cell_type": "code",
   "execution_count": 355,
   "metadata": {},
   "outputs": [],
   "source": [
    "df.replace(['unknown', 'null'], 'Missing', inplace=True)"
   ]
  },
  {
   "cell_type": "code",
   "execution_count": 356,
   "metadata": {},
   "outputs": [
    {
     "name": "stdout",
     "output_type": "stream",
     "text": [
      "case_month                    35\n",
      "res_state                     49\n",
      "county_fips_code            1340\n",
      "age_group                      5\n",
      "sex                            4\n",
      "race                           8\n",
      "ethnicity                      4\n",
      "current_status                 2\n",
      "hosp_yn                        4\n",
      "icu_yn                         4\n",
      "death_yn                       2\n",
      "underlying_conditions_yn       2\n",
      "dtype: int64\n"
     ]
    }
   ],
   "source": [
    "unique_values = df.nunique()\n",
    "\n",
    "print(unique_values)"
   ]
  },
  {
   "attachments": {},
   "cell_type": "markdown",
   "metadata": {},
   "source": [
    "- (1.1) Split the dataset into two datasets: 70% training and 30% test. Keep the test set aside."
   ]
  },
  {
   "cell_type": "code",
   "execution_count": 357,
   "metadata": {},
   "outputs": [],
   "source": [
    "df.to_csv('cleaned_data_hw2.csv', index=False)"
   ]
  },
  {
   "cell_type": "code",
   "execution_count": 358,
   "metadata": {},
   "outputs": [
    {
     "data": {
      "text/html": [
       "<div>\n",
       "<style scoped>\n",
       "    .dataframe tbody tr th:only-of-type {\n",
       "        vertical-align: middle;\n",
       "    }\n",
       "\n",
       "    .dataframe tbody tr th {\n",
       "        vertical-align: top;\n",
       "    }\n",
       "\n",
       "    .dataframe thead th {\n",
       "        text-align: right;\n",
       "    }\n",
       "</style>\n",
       "<table border=\"1\" class=\"dataframe\">\n",
       "  <thead>\n",
       "    <tr style=\"text-align: right;\">\n",
       "      <th></th>\n",
       "      <th>case_month</th>\n",
       "      <th>res_state</th>\n",
       "      <th>county_fips_code</th>\n",
       "      <th>age_group</th>\n",
       "      <th>sex</th>\n",
       "      <th>race</th>\n",
       "      <th>ethnicity</th>\n",
       "      <th>current_status</th>\n",
       "      <th>hosp_yn</th>\n",
       "      <th>icu_yn</th>\n",
       "      <th>death_yn</th>\n",
       "      <th>underlying_conditions_yn</th>\n",
       "    </tr>\n",
       "  </thead>\n",
       "  <tbody>\n",
       "    <tr>\n",
       "      <th>0</th>\n",
       "      <td>2021-04-01</td>\n",
       "      <td>IL</td>\n",
       "      <td>17031.0</td>\n",
       "      <td>50 to 64 years</td>\n",
       "      <td>Male</td>\n",
       "      <td>White</td>\n",
       "      <td>Hispanic/Latino</td>\n",
       "      <td>Laboratory-confirmed case</td>\n",
       "      <td>Yes</td>\n",
       "      <td>Missing</td>\n",
       "      <td>Yes</td>\n",
       "      <td>NaN</td>\n",
       "    </tr>\n",
       "    <tr>\n",
       "      <th>1</th>\n",
       "      <td>2020-04-01</td>\n",
       "      <td>MA</td>\n",
       "      <td>25025.0</td>\n",
       "      <td>65+ years</td>\n",
       "      <td>Male</td>\n",
       "      <td>White</td>\n",
       "      <td>Non-Hispanic/Latino</td>\n",
       "      <td>Laboratory-confirmed case</td>\n",
       "      <td>Yes</td>\n",
       "      <td>Missing</td>\n",
       "      <td>Yes</td>\n",
       "      <td>NaN</td>\n",
       "    </tr>\n",
       "    <tr>\n",
       "      <th>2</th>\n",
       "      <td>2020-11-01</td>\n",
       "      <td>PA</td>\n",
       "      <td>42101.0</td>\n",
       "      <td>65+ years</td>\n",
       "      <td>Female</td>\n",
       "      <td>White</td>\n",
       "      <td>Unknown</td>\n",
       "      <td>Laboratory-confirmed case</td>\n",
       "      <td>Unknown</td>\n",
       "      <td>Unknown</td>\n",
       "      <td>Yes</td>\n",
       "      <td>NaN</td>\n",
       "    </tr>\n",
       "    <tr>\n",
       "      <th>3</th>\n",
       "      <td>2021-12-01</td>\n",
       "      <td>NY</td>\n",
       "      <td>36081.0</td>\n",
       "      <td>65+ years</td>\n",
       "      <td>Female</td>\n",
       "      <td>Asian</td>\n",
       "      <td>Non-Hispanic/Latino</td>\n",
       "      <td>Laboratory-confirmed case</td>\n",
       "      <td>Yes</td>\n",
       "      <td>Yes</td>\n",
       "      <td>Yes</td>\n",
       "      <td>Yes</td>\n",
       "    </tr>\n",
       "    <tr>\n",
       "      <th>4</th>\n",
       "      <td>2022-01-01</td>\n",
       "      <td>AZ</td>\n",
       "      <td>4013.0</td>\n",
       "      <td>65+ years</td>\n",
       "      <td>Male</td>\n",
       "      <td>White</td>\n",
       "      <td>Non-Hispanic/Latino</td>\n",
       "      <td>Probable Case</td>\n",
       "      <td>Missing</td>\n",
       "      <td>Missing</td>\n",
       "      <td>Yes</td>\n",
       "      <td>NaN</td>\n",
       "    </tr>\n",
       "  </tbody>\n",
       "</table>\n",
       "</div>"
      ],
      "text/plain": [
       "   case_month res_state  county_fips_code       age_group     sex   race  \\\n",
       "0  2021-04-01        IL           17031.0  50 to 64 years    Male  White   \n",
       "1  2020-04-01        MA           25025.0       65+ years    Male  White   \n",
       "2  2020-11-01        PA           42101.0       65+ years  Female  White   \n",
       "3  2021-12-01        NY           36081.0       65+ years  Female  Asian   \n",
       "4  2022-01-01        AZ            4013.0       65+ years    Male  White   \n",
       "\n",
       "             ethnicity             current_status  hosp_yn   icu_yn death_yn  \\\n",
       "0      Hispanic/Latino  Laboratory-confirmed case      Yes  Missing      Yes   \n",
       "1  Non-Hispanic/Latino  Laboratory-confirmed case      Yes  Missing      Yes   \n",
       "2              Unknown  Laboratory-confirmed case  Unknown  Unknown      Yes   \n",
       "3  Non-Hispanic/Latino  Laboratory-confirmed case      Yes      Yes      Yes   \n",
       "4  Non-Hispanic/Latino              Probable Case  Missing  Missing      Yes   \n",
       "\n",
       "  underlying_conditions_yn  \n",
       "0                      NaN  \n",
       "1                      NaN  \n",
       "2                      NaN  \n",
       "3                      Yes  \n",
       "4                      NaN  "
      ]
     },
     "execution_count": 358,
     "metadata": {},
     "output_type": "execute_result"
    }
   ],
   "source": [
    "# read in the cleaned csv\n",
    "df = pd.read_csv(\"cleaned_data_hw2.csv\", keep_default_na=True, delimiter=',', skipinitialspace=True)\n",
    "df.head(5)"
   ]
  },
  {
   "cell_type": "code",
   "execution_count": 359,
   "metadata": {},
   "outputs": [
    {
     "data": {
      "text/plain": [
       "(40000, 12)"
      ]
     },
     "execution_count": 359,
     "metadata": {},
     "output_type": "execute_result"
    }
   ],
   "source": [
    "df.shape"
   ]
  },
  {
   "cell_type": "code",
   "execution_count": 360,
   "metadata": {},
   "outputs": [
    {
     "data": {
      "text/plain": [
       "case_month                   object\n",
       "res_state                    object\n",
       "county_fips_code            float64\n",
       "age_group                    object\n",
       "sex                          object\n",
       "race                         object\n",
       "ethnicity                    object\n",
       "current_status               object\n",
       "hosp_yn                      object\n",
       "icu_yn                       object\n",
       "death_yn                     object\n",
       "underlying_conditions_yn     object\n",
       "dtype: object"
      ]
     },
     "execution_count": 360,
     "metadata": {},
     "output_type": "execute_result"
    }
   ],
   "source": [
    "df.dtypes"
   ]
  },
  {
   "cell_type": "code",
   "execution_count": 361,
   "metadata": {},
   "outputs": [
    {
     "data": {
      "text/plain": [
       "case_month                      0\n",
       "res_state                       1\n",
       "county_fips_code             2298\n",
       "age_group                     260\n",
       "sex                           766\n",
       "race                         4697\n",
       "ethnicity                    5125\n",
       "current_status                  0\n",
       "hosp_yn                         0\n",
       "icu_yn                          0\n",
       "death_yn                        0\n",
       "underlying_conditions_yn    36505\n",
       "dtype: int64"
      ]
     },
     "execution_count": 361,
     "metadata": {},
     "output_type": "execute_result"
    }
   ],
   "source": [
    "df.isna().sum()"
   ]
  },
  {
   "attachments": {},
   "cell_type": "markdown",
   "metadata": {},
   "source": [
    "#### Convert datatypes for plotting later\n",
    "We will now review the datatypes and convert if needed. This will help avoid plotting errors later in the notebook\n",
    "- The target feature \"death_yn\" is type object, with values \"Yes\" & \"No\". These will be mapped 'Yes': 1, \"No\": 0 and stored as \"int64\""
   ]
  },
  {
   "cell_type": "code",
   "execution_count": 362,
   "metadata": {},
   "outputs": [],
   "source": [
    "# convert 'death_yn' to 0,1\n",
    "df['death_yn'] = df['death_yn'].map({'Yes': 1, \"No\": 0})"
   ]
  },
  {
   "attachments": {},
   "cell_type": "markdown",
   "metadata": {},
   "source": [
    "#### Deal with NaN values\n",
    "NaN values appear in the features will need to be dealt with (removed) before any modeling takes place\n",
    "- We will look at 3 options to deal with theses NaN values;\n",
    "     1. Perform imputation with the median\n",
    "     2. Replace with strange value e.g. 999\n",
    "     3. Drop the feature\n",
    "- Each of these options will be evaluated and one will be chosen\n",
    "- Two additional features will now be created to capture these options "
   ]
  },
  {
   "attachments": {},
   "cell_type": "markdown",
   "metadata": {},
   "source": [
    "county_fips_code: This feature has 2298 missing values, which is relatively small compared to the total number of observations. Therefore, imputation with the median or replacement with a strange value may be appropriate in this case.\n",
    "\n"
   ]
  },
  {
   "cell_type": "code",
   "execution_count": 363,
   "metadata": {},
   "outputs": [
    {
     "name": "stdout",
     "output_type": "stream",
     "text": [
      "Number of missing values in county_fips_code: 0\n"
     ]
    }
   ],
   "source": [
    "#replace missing values in county_fips_code with -1\n",
    "df['county_fips_code'].fillna(-1, inplace=True)\n",
    "\n",
    "# check the number of missing values in county_fips_code\n",
    "print(\"Number of missing values in county_fips_code:\", df['county_fips_code'].isnull().sum())"
   ]
  },
  {
   "attachments": {},
   "cell_type": "markdown",
   "metadata": {},
   "source": [
    "age_group, sex, race, ethnicity, underlying_conditions_yn: These features have a high number of missing values, ranging from 260 to 36505. Dropping these features may be the best option since imputation or replacement with a strange value may result in the loss of too much information. However, you should carefully evaluate the importance of these features and their impact on the analysis before dropping them."
   ]
  },
  {
   "cell_type": "code",
   "execution_count": 364,
   "metadata": {},
   "outputs": [
    {
     "name": "stdout",
     "output_type": "stream",
     "text": [
      "Number of missing values in each feature:\n",
      " case_month                  0\n",
      "res_state                   0\n",
      "county_fips_code            0\n",
      "age_group                   0\n",
      "sex                         0\n",
      "race                        0\n",
      "ethnicity                   0\n",
      "current_status              0\n",
      "hosp_yn                     0\n",
      "icu_yn                      0\n",
      "death_yn                    0\n",
      "underlying_conditions_yn    0\n",
      "dtype: int64\n"
     ]
    }
   ],
   "source": [
    "# convert case_month feature to datetime\n",
    "df['case_month'] = pd.to_datetime(df['case_month'])\n",
    "\n",
    "# impute missing values with the mode for each feature except for county_fips_code and res_state\n",
    "for column in df.columns:\n",
    "    if column not in ['county_fips_code', 'res_state']:\n",
    "        df[column].fillna(df[column].mode()[0], inplace=True)\n",
    "\n",
    "# drop rows with missing values in res_state\n",
    "df.dropna(subset=['res_state'], inplace=True)\n",
    "\n",
    "# check the number of missing values in each feature\n",
    "print(\"Number of missing values in each feature:\\n\", df.isnull().sum())"
   ]
  },
  {
   "attachments": {},
   "cell_type": "markdown",
   "metadata": {},
   "source": [
    "Show correlation with the target for each feature"
   ]
  },
  {
   "cell_type": "code",
   "execution_count": 365,
   "metadata": {},
   "outputs": [
    {
     "name": "stdout",
     "output_type": "stream",
     "text": [
      "Correlation with the target (death_yn) for each feature:\n",
      " county_fips_code   -0.202333\n",
      "death_yn            1.000000\n",
      "dtype: float64\n"
     ]
    }
   ],
   "source": [
    "# compute the correlation between each feature and the target feature (death_yn)\n",
    "corr_with_target = df.corrwith(df['death_yn'])\n",
    "\n",
    "# print the correlation with the target for each feature\n",
    "print(\"Correlation with the target (death_yn) for each feature:\\n\", corr_with_target)"
   ]
  },
  {
   "cell_type": "code",
   "execution_count": 366,
   "metadata": {},
   "outputs": [
    {
     "data": {
      "text/plain": [
       "(39999, 12)"
      ]
     },
     "execution_count": 366,
     "metadata": {},
     "output_type": "execute_result"
    }
   ],
   "source": [
    "df.shape"
   ]
  },
  {
   "cell_type": "code",
   "execution_count": 367,
   "metadata": {},
   "outputs": [
    {
     "data": {
      "text/plain": [
       "case_month                  datetime64[ns]\n",
       "res_state                           object\n",
       "county_fips_code                   float64\n",
       "age_group                           object\n",
       "sex                                 object\n",
       "race                                object\n",
       "ethnicity                           object\n",
       "current_status                      object\n",
       "hosp_yn                             object\n",
       "icu_yn                              object\n",
       "death_yn                             int64\n",
       "underlying_conditions_yn            object\n",
       "dtype: object"
      ]
     },
     "execution_count": 367,
     "metadata": {},
     "output_type": "execute_result"
    }
   ],
   "source": [
    "df.dtypes"
   ]
  },
  {
   "cell_type": "code",
   "execution_count": 368,
   "metadata": {},
   "outputs": [
    {
     "data": {
      "text/plain": [
       "case_month                  0\n",
       "res_state                   0\n",
       "county_fips_code            0\n",
       "age_group                   0\n",
       "sex                         0\n",
       "race                        0\n",
       "ethnicity                   0\n",
       "current_status              0\n",
       "hosp_yn                     0\n",
       "icu_yn                      0\n",
       "death_yn                    0\n",
       "underlying_conditions_yn    0\n",
       "dtype: int64"
      ]
     },
     "execution_count": 368,
     "metadata": {},
     "output_type": "execute_result"
    }
   ],
   "source": [
    "df.isna().sum()"
   ]
  },
  {
   "attachments": {},
   "cell_type": "markdown",
   "metadata": {},
   "source": [
    "#### Setup Column types\n",
    "We will now setup the continuous, categorical, target features\n",
    "\n",
    "##### Select all categorical columns and convert to categorical type\n",
    " - This will be needed later when it will be required to convert categorical features into dummy features for modeling"
   ]
  },
  {
   "cell_type": "code",
   "execution_count": 369,
   "metadata": {},
   "outputs": [
    {
     "data": {
      "text/plain": [
       "res_state                   category\n",
       "age_group                   category\n",
       "sex                         category\n",
       "race                        category\n",
       "ethnicity                   category\n",
       "current_status              category\n",
       "hosp_yn                     category\n",
       "icu_yn                      category\n",
       "underlying_conditions_yn    category\n",
       "dtype: object"
      ]
     },
     "execution_count": 369,
     "metadata": {},
     "output_type": "execute_result"
    }
   ],
   "source": [
    "# Select columns containing categorical data\n",
    "categorical_columns = df[[\"res_state\",\"age_group\",\"sex\",\"race\",\"ethnicity\",\"current_status\",\"hosp_yn\",\"icu_yn\",\"underlying_conditions_yn\"]].columns\n",
    "\n",
    "# Convert data type to category for these columns\n",
    "for column in categorical_columns:\n",
    "    df[column] = df[column].astype('category')\n",
    "\n",
    "df[categorical_columns].dtypes"
   ]
  },
  {
   "attachments": {},
   "cell_type": "markdown",
   "metadata": {},
   "source": [
    "##### Setup continuous columns as all the remaining columns that are not category i.e. they are int64"
   ]
  },
  {
   "cell_type": "code",
   "execution_count": 370,
   "metadata": {},
   "outputs": [
    {
     "name": "stdout",
     "output_type": "stream",
     "text": [
      "int64\n",
      "county_fips_code    int64\n",
      "death_yn            int64\n",
      "dtype: object\n"
     ]
    }
   ],
   "source": [
    "# convert county_fips_code to an integer data type\n",
    "df['county_fips_code'] = df['county_fips_code'].astype('int64')\n",
    "\n",
    "# check the data type of the converted column\n",
    "print(df['county_fips_code'].dtypes)\n",
    "\n",
    "# select continuous columns\n",
    "continuous_columns = df.select_dtypes(include=['int64', 'float64']).columns\n",
    "\n",
    "# check the data types of the selected columns\n",
    "print(df[continuous_columns].dtypes)"
   ]
  },
  {
   "cell_type": "code",
   "execution_count": 371,
   "metadata": {},
   "outputs": [
    {
     "data": {
      "text/plain": [
       "case_month                  datetime64[ns]\n",
       "res_state                         category\n",
       "county_fips_code                     int64\n",
       "age_group                         category\n",
       "sex                               category\n",
       "race                              category\n",
       "ethnicity                         category\n",
       "current_status                    category\n",
       "hosp_yn                           category\n",
       "icu_yn                            category\n",
       "death_yn                             int64\n",
       "underlying_conditions_yn          category\n",
       "dtype: object"
      ]
     },
     "execution_count": 371,
     "metadata": {},
     "output_type": "execute_result"
    }
   ],
   "source": [
    "df.dtypes"
   ]
  },
  {
   "attachments": {},
   "cell_type": "markdown",
   "metadata": {},
   "source": [
    "##### We will now shuffle the dataframe before splitting the dataset\n",
    "- This step is strictly not necessary as performing train/test split will also shuffle the dataframe"
   ]
  },
  {
   "cell_type": "code",
   "execution_count": 372,
   "metadata": {},
   "outputs": [
    {
     "data": {
      "text/html": [
       "<div>\n",
       "<style scoped>\n",
       "    .dataframe tbody tr th:only-of-type {\n",
       "        vertical-align: middle;\n",
       "    }\n",
       "\n",
       "    .dataframe tbody tr th {\n",
       "        vertical-align: top;\n",
       "    }\n",
       "\n",
       "    .dataframe thead th {\n",
       "        text-align: right;\n",
       "    }\n",
       "</style>\n",
       "<table border=\"1\" class=\"dataframe\">\n",
       "  <thead>\n",
       "    <tr style=\"text-align: right;\">\n",
       "      <th></th>\n",
       "      <th>case_month</th>\n",
       "      <th>res_state</th>\n",
       "      <th>county_fips_code</th>\n",
       "      <th>age_group</th>\n",
       "      <th>sex</th>\n",
       "      <th>race</th>\n",
       "      <th>ethnicity</th>\n",
       "      <th>current_status</th>\n",
       "      <th>hosp_yn</th>\n",
       "      <th>icu_yn</th>\n",
       "      <th>death_yn</th>\n",
       "      <th>underlying_conditions_yn</th>\n",
       "    </tr>\n",
       "  </thead>\n",
       "  <tbody>\n",
       "    <tr>\n",
       "      <th>0</th>\n",
       "      <td>2021-04-01</td>\n",
       "      <td>IL</td>\n",
       "      <td>17031</td>\n",
       "      <td>50 to 64 years</td>\n",
       "      <td>Male</td>\n",
       "      <td>White</td>\n",
       "      <td>Hispanic/Latino</td>\n",
       "      <td>Laboratory-confirmed case</td>\n",
       "      <td>Yes</td>\n",
       "      <td>Missing</td>\n",
       "      <td>1</td>\n",
       "      <td>Yes</td>\n",
       "    </tr>\n",
       "    <tr>\n",
       "      <th>1</th>\n",
       "      <td>2020-04-01</td>\n",
       "      <td>MA</td>\n",
       "      <td>25025</td>\n",
       "      <td>65+ years</td>\n",
       "      <td>Male</td>\n",
       "      <td>White</td>\n",
       "      <td>Non-Hispanic/Latino</td>\n",
       "      <td>Laboratory-confirmed case</td>\n",
       "      <td>Yes</td>\n",
       "      <td>Missing</td>\n",
       "      <td>1</td>\n",
       "      <td>Yes</td>\n",
       "    </tr>\n",
       "    <tr>\n",
       "      <th>2</th>\n",
       "      <td>2020-11-01</td>\n",
       "      <td>PA</td>\n",
       "      <td>42101</td>\n",
       "      <td>65+ years</td>\n",
       "      <td>Female</td>\n",
       "      <td>White</td>\n",
       "      <td>Unknown</td>\n",
       "      <td>Laboratory-confirmed case</td>\n",
       "      <td>Unknown</td>\n",
       "      <td>Unknown</td>\n",
       "      <td>1</td>\n",
       "      <td>Yes</td>\n",
       "    </tr>\n",
       "    <tr>\n",
       "      <th>3</th>\n",
       "      <td>2021-12-01</td>\n",
       "      <td>NY</td>\n",
       "      <td>36081</td>\n",
       "      <td>65+ years</td>\n",
       "      <td>Female</td>\n",
       "      <td>Asian</td>\n",
       "      <td>Non-Hispanic/Latino</td>\n",
       "      <td>Laboratory-confirmed case</td>\n",
       "      <td>Yes</td>\n",
       "      <td>Yes</td>\n",
       "      <td>1</td>\n",
       "      <td>Yes</td>\n",
       "    </tr>\n",
       "    <tr>\n",
       "      <th>4</th>\n",
       "      <td>2022-01-01</td>\n",
       "      <td>AZ</td>\n",
       "      <td>4013</td>\n",
       "      <td>65+ years</td>\n",
       "      <td>Male</td>\n",
       "      <td>White</td>\n",
       "      <td>Non-Hispanic/Latino</td>\n",
       "      <td>Probable Case</td>\n",
       "      <td>Missing</td>\n",
       "      <td>Missing</td>\n",
       "      <td>1</td>\n",
       "      <td>Yes</td>\n",
       "    </tr>\n",
       "  </tbody>\n",
       "</table>\n",
       "</div>"
      ],
      "text/plain": [
       "  case_month res_state  county_fips_code       age_group     sex   race  \\\n",
       "0 2021-04-01        IL             17031  50 to 64 years    Male  White   \n",
       "1 2020-04-01        MA             25025       65+ years    Male  White   \n",
       "2 2020-11-01        PA             42101       65+ years  Female  White   \n",
       "3 2021-12-01        NY             36081       65+ years  Female  Asian   \n",
       "4 2022-01-01        AZ              4013       65+ years    Male  White   \n",
       "\n",
       "             ethnicity             current_status  hosp_yn   icu_yn  death_yn  \\\n",
       "0      Hispanic/Latino  Laboratory-confirmed case      Yes  Missing         1   \n",
       "1  Non-Hispanic/Latino  Laboratory-confirmed case      Yes  Missing         1   \n",
       "2              Unknown  Laboratory-confirmed case  Unknown  Unknown         1   \n",
       "3  Non-Hispanic/Latino  Laboratory-confirmed case      Yes      Yes         1   \n",
       "4  Non-Hispanic/Latino              Probable Case  Missing  Missing         1   \n",
       "\n",
       "  underlying_conditions_yn  \n",
       "0                      Yes  \n",
       "1                      Yes  \n",
       "2                      Yes  \n",
       "3                      Yes  \n",
       "4                      Yes  "
      ]
     },
     "execution_count": 372,
     "metadata": {},
     "output_type": "execute_result"
    }
   ],
   "source": [
    "# randomly generate sequence based on dataframe index and set to be new index\n",
    "df.set_index(np.random.permutation(df.index))\n",
    "# sort the resulting random index\n",
    "df.sort_index(inplace=True)\n",
    "df.head(5)"
   ]
  },
  {
   "attachments": {},
   "cell_type": "markdown",
   "metadata": {},
   "source": [
    "##### The dataset will now be split into two datasets: 70% training and 30% test\n",
    "- First we will set the target feature \"y\" to be death_yn\n",
    "- Then we will set \"X\" to be the remaining features in the dataframe i.e. we drop \"death_yn\" from the dataframe"
   ]
  },
  {
   "cell_type": "code",
   "execution_count": 373,
   "metadata": {},
   "outputs": [],
   "source": [
    "y = pd.DataFrame(df[\"death_yn\"])\n",
    "X = df#.drop([\"death_yn\"],1)"
   ]
  },
  {
   "attachments": {},
   "cell_type": "markdown",
   "metadata": {},
   "source": [
    "##### The data set can now be split\n",
    "- The train test split will randomly split the dataset as per the test size\n",
    "- We will set the random state=1 to allow the random shuffle to be repeated within this notebook only"
   ]
  },
  {
   "cell_type": "code",
   "execution_count": 374,
   "metadata": {},
   "outputs": [
    {
     "name": "stdout",
     "output_type": "stream",
     "text": [
      "original range is:  39999\n",
      "training range (70%):\t rows 0 to 27999\n",
      "test range (30%): \t rows 27999 to 39999\n"
     ]
    }
   ],
   "source": [
    "# Split the dataset into two datasets: 70% training and 30% test\n",
    "X_train, X_test, y_train, y_test = train_test_split(X, y, test_size=0.3,random_state=1)\n",
    "\n",
    "print(\"original range is: \",df.shape[0])\n",
    "print(\"training range (70%):\\t rows 0 to\", round(X_train.shape[0]))\n",
    "print(\"test range (30%): \\t rows\", round(X_train.shape[0]), \"to\", round(X_train.shape[0]) + X_test.shape[0])"
   ]
  },
  {
   "attachments": {},
   "cell_type": "markdown",
   "metadata": {},
   "source": [
    "## 1.2 On the training set we will now carry out a series of plots comparing all features to help make decisions on what features to keep for the model \n",
    "\n",
    "- All plots will be using the training subset of dataset: X_train, y_train\n",
    "\n",
    "### 1.2.1 Plot the correlations between all the continuous features. "
   ]
  },
  {
   "cell_type": "code",
   "execution_count": 375,
   "metadata": {},
   "outputs": [
    {
     "data": {
      "text/plain": [
       "(array([0.5, 1.5]),\n",
       " [Text(0.5, 0, 'county_fips_code'), Text(1.5, 0, 'death_yn')])"
      ]
     },
     "execution_count": 375,
     "metadata": {},
     "output_type": "execute_result"
    },
    {
     "data": {
      "image/png": "[encoded data removed]",
      "text/plain": [
       "<Figure size 2000x2000 with 2 Axes>"
      ]
     },
     "metadata": {},
     "output_type": "display_data"
    }
   ],
   "source": [
    "# Set style to white\n",
    "sns.set(style=\"white\")\n",
    "\n",
    "# Calculate correlation of all pairs of continuous features\n",
    "corr = X_train[continuous_columns].corr()\n",
    "\n",
    "# Generate a mask for the upper triangle\n",
    "mask = np.zeros_like(corr, dtype=bool)\n",
    "mask[np.triu_indices_from(mask)] = True\n",
    "\n",
    "# Set up the matplotlib figure\n",
    "f, ax = plt.subplots(figsize=(20, 20))\n",
    "\n",
    "# Generate a custom colormap - blue and red\n",
    "cmap = sns.diverging_palette(220, 10, as_cmap=True)\n",
    "\n",
    "# Draw the heatmap with the mask and correct aspect ratio\n",
    "sns.heatmap(corr, annot=True, mask=mask, cmap=cmap, vmax=1, vmin=-1,\n",
    "            square=True, xticklabels=True, yticklabels=True,\n",
    "            linewidths=.5, cbar_kws={\"shrink\": .5}, ax=ax)\n",
    "plt.yticks(rotation=0)\n",
    "plt.xticks(rotation=90)"
   ]
  },
  {
   "attachments": {},
   "cell_type": "markdown",
   "metadata": {},
   "source": [
    "#### Interpretation of the results"
   ]
  },
  {
   "attachments": {},
   "cell_type": "markdown",
   "metadata": {},
   "source": [
    "### 1.2.2 Plot interaction between continuous features and target feature\n",
    "- Here we will loop over each continuous feature and make a scatter plot against the target 'death_yn'\n",
    "- We will discuss what we observe from these plots, e.g. which continuous features seem to be better at predicting the target feature\n",
    "- We will choose a subset of continuous features we find promising (if any) and justify our choice.\n",
    "\n",
    "Note: death_yn needs to be an int for these scatter plots, as we have prepared earlier"
   ]
  },
  {
   "cell_type": "code",
   "execution_count": 376,
   "metadata": {},
   "outputs": [
    {
     "data": {
      "text/html": [
       "<div>\n",
       "<style scoped>\n",
       "    .dataframe tbody tr th:only-of-type {\n",
       "        vertical-align: middle;\n",
       "    }\n",
       "\n",
       "    .dataframe tbody tr th {\n",
       "        vertical-align: top;\n",
       "    }\n",
       "\n",
       "    .dataframe thead th {\n",
       "        text-align: right;\n",
       "    }\n",
       "</style>\n",
       "<table border=\"1\" class=\"dataframe\">\n",
       "  <thead>\n",
       "    <tr style=\"text-align: right;\">\n",
       "      <th></th>\n",
       "      <th>death_yn</th>\n",
       "    </tr>\n",
       "  </thead>\n",
       "  <tbody>\n",
       "    <tr>\n",
       "      <th>death_yn</th>\n",
       "      <td>1.000000</td>\n",
       "    </tr>\n",
       "    <tr>\n",
       "      <th>county_fips_code</th>\n",
       "      <td>-0.200739</td>\n",
       "    </tr>\n",
       "  </tbody>\n",
       "</table>\n",
       "</div>"
      ],
      "text/plain": [
       "                  death_yn\n",
       "death_yn          1.000000\n",
       "county_fips_code -0.200739"
      ]
     },
     "execution_count": 376,
     "metadata": {},
     "output_type": "execute_result"
    },
    {
     "data": {
      "image/png": "[encoded data removed]",
      "text/plain": [
       "<Figure size 640x480 with 1 Axes>"
      ]
     },
     "metadata": {},
     "output_type": "display_data"
    },
    {
     "data": {
      "image/png": "[encoded data removed]",
      "text/plain": [
       "<Figure size 640x480 with 1 Axes>"
      ]
     },
     "metadata": {},
     "output_type": "display_data"
    }
   ],
   "source": [
    "# dict to hold correlation values \n",
    "corr_dict = {}\n",
    "\n",
    "# plot pairwise interaction between all continuous features and target\n",
    "for column in X_train[continuous_columns]:\n",
    "    # create temp df to merge column and target\n",
    "    df_temp = pd.concat([X_train[column], y_train], axis=1)\n",
    "    # store correlation in variable\n",
    "    correlation = df_temp[[column, \"death_yn\"]].corr().values[0,1]\n",
    "    # plot the column and tartget feature\n",
    "    df_temp.plot(kind='scatter', x=column, y=\"death_yn\", label=\"%.3f\" % correlation)\n",
    "    # add correlation to dict\n",
    "    corr_dict[column] = correlation\n",
    "\n",
    "# dataframe holding sorted correlation values to aid in interpreting results\n",
    "corr_df = pd.DataFrame.from_dict(corr_dict, orient='index', columns=['death_yn']).sort_values('death_yn', ascending=False)\n",
    "corr_df"
   ]
  },
  {
   "attachments": {},
   "cell_type": "markdown",
   "metadata": {},
   "source": [
    "#### 1.2.3 Interpretation of the results\n",
    "- Observing the plots, visually there are no clearly defined correlations and this is probably to be expected with a complex problem like this. There are many interactions to take into account.\n",
    "- Reviewing the sorted correlation dataframe we get a better overview of all the correlations. \n",
    "- We will breakdown the correlation values into 3 bins for purposes of interpretation taking only their absolute value into account\n",
    "- Note: The bounds for each bin are arbitrary and for the purpose of splitting up the features only. \n",
    "\n",
    "\n",
    "| Low correlation | Medium correlation | High correlation |\n",
    "|-----------------|--------------------|------------------|\n",
    "| x <= 0.15       | 0.15 < x < 0.25    | x >= 0.25        |\n",
    "| 0 features      | 1  features        | 0 features       |\n",
    "| 0%              | 100%               | 0%               | \n",
    "\n",
    "\n",
    "- county_fips_code has a medium negative correlation \n",
    "- I will not interpret each feature individually are there are simply too many to explore.- I will decide to keep the features that fall into the medium and high correlation bins. \n",
    "- The impact of this decision will be evaluated in part 5."
   ]
  },
  {
   "cell_type": "code",
   "execution_count": null,
   "metadata": {},
   "outputs": [],
   "source": [
    "# generate list of features for high correlation bin\n",
    "medium_correlation_features = []\n",
    "for key, value in corr_dict.items():\n",
    "    if value > 0.15 or value < -0.25:\n",
    "        medium_correlation_features.append(key)\n",
    "medium_correlation_features"
   ]
  },
  {
   "attachments": {},
   "cell_type": "markdown",
   "metadata": {},
   "source": [
    "### 1.2.3 Plot interaction between categorical features and target feature\n",
    "- Here we will plot a pairwise interaction between each categorical feature against the target feature. \n",
    "- We will discuss what we observe from these plots, e.g., which categorical features seem to be better at predicting the target feature...\n",
    "- We will choose a subset of categorical features we find promising (if any) and justify our choice.\n",
    "\n",
    "Here we have 9 categorical features\n",
    "- res_state, age_group, sex, race, ethnicity , current_status, hosp_yn, icu_yn, underlying_conditions_yn\n",
    "- A stacked bar plot for each will be created."
   ]
  },
  {
   "attachments": {},
   "cell_type": "markdown",
   "metadata": {},
   "source": [
    "##### Create stacked bar plots for all categorical features"
   ]
  },
  {
   "cell_type": "code",
   "execution_count": 378,
   "metadata": {},
   "outputs": [
    {
     "name": "stdout",
     "output_type": "stream",
     "text": [
      "\n",
      " res_state\n",
      "Index \t Count\n",
      "MN \t death_yn    1294\n",
      "death_yn    1294\n",
      "dtype: int64\n",
      "28530\n"
     ]
    },
    {
     "ename": "ValueError",
     "evalue": "Incompatible indexer with Series",
     "output_type": "error",
     "traceback": [
      "\u001b[0;31m---------------------------------------------------------------------------\u001b[0m",
      "\u001b[0;31mValueError\u001b[0m                                Traceback (most recent call last)",
      "Cell \u001b[0;32mIn[378], line 34\u001b[0m\n\u001b[1;32m     32\u001b[0m     \u001b[39mfor\u001b[39;00m ind \u001b[39min\u001b[39;00m index_list:\n\u001b[1;32m     33\u001b[0m         \u001b[39mprint\u001b[39m(ind)  \u001b[39m# Debugging line\u001b[39;00m\n\u001b[0;32m---> 34\u001b[0m         df_temp\u001b[39m.\u001b[39;49mat[ind, \u001b[39m'\u001b[39;49m\u001b[39mpercent\u001b[39;49m\u001b[39m'\u001b[39;49m] \u001b[39m=\u001b[39m count_percentage\n\u001b[1;32m     36\u001b[0m group \u001b[39m=\u001b[39m df_temp[[\u001b[39m'\u001b[39m\u001b[39mpercent\u001b[39m\u001b[39m'\u001b[39m,categorical_feature,\u001b[39m'\u001b[39m\u001b[39mdeath_yn\u001b[39m\u001b[39m'\u001b[39m]]\u001b[39m.\u001b[39mgroupby([categorical_feature,\u001b[39m'\u001b[39m\u001b[39mdeath_yn\u001b[39m\u001b[39m'\u001b[39m])\u001b[39m.\u001b[39msum()\n\u001b[1;32m     38\u001b[0m my_plot \u001b[39m=\u001b[39m group\u001b[39m.\u001b[39munstack()\u001b[39m.\u001b[39mplot(kind\u001b[39m=\u001b[39m\u001b[39m'\u001b[39m\u001b[39mbar\u001b[39m\u001b[39m'\u001b[39m, stacked\u001b[39m=\u001b[39m\u001b[39mTrue\u001b[39;00m, title\u001b[39m=\u001b[39m\u001b[39mf\u001b[39m\u001b[39m\"\u001b[39m\u001b[39mdeath_yn vs \u001b[39m\u001b[39m{\u001b[39;00mcategorical_feature\u001b[39m}\u001b[39;00m\u001b[39m\"\u001b[39m, figsize\u001b[39m=\u001b[39m(\u001b[39m15\u001b[39m,\u001b[39m7\u001b[39m), grid\u001b[39m=\u001b[39m\u001b[39mTrue\u001b[39;00m)\n",
      "File \u001b[0;32m~/opt/anaconda3/envs/comp47350py38/lib/python3.8/site-packages/pandas/core/indexing.py:2439\u001b[0m, in \u001b[0;36m_AtIndexer.__setitem__\u001b[0;34m(self, key, value)\u001b[0m\n\u001b[1;32m   2436\u001b[0m     \u001b[39mif\u001b[39;00m \u001b[39mnot\u001b[39;00m \u001b[39misinstance\u001b[39m(key, \u001b[39mtuple\u001b[39m) \u001b[39mor\u001b[39;00m \u001b[39mnot\u001b[39;00m \u001b[39mall\u001b[39m(is_scalar(x) \u001b[39mfor\u001b[39;00m x \u001b[39min\u001b[39;00m key):\n\u001b[1;32m   2437\u001b[0m         \u001b[39mraise\u001b[39;00m \u001b[39mValueError\u001b[39;00m(\u001b[39m\"\u001b[39m\u001b[39mInvalid call for scalar access (setting)!\u001b[39m\u001b[39m\"\u001b[39m)\n\u001b[0;32m-> 2439\u001b[0m     \u001b[39mself\u001b[39;49m\u001b[39m.\u001b[39;49mobj\u001b[39m.\u001b[39;49mloc[key] \u001b[39m=\u001b[39m value\n\u001b[1;32m   2440\u001b[0m     \u001b[39mreturn\u001b[39;00m\n\u001b[1;32m   2442\u001b[0m \u001b[39mreturn\u001b[39;00m \u001b[39msuper\u001b[39m()\u001b[39m.\u001b[39m\u001b[39m__setitem__\u001b[39m(key, value)\n",
      "File \u001b[0;32m~/opt/anaconda3/envs/comp47350py38/lib/python3.8/site-packages/pandas/core/indexing.py:818\u001b[0m, in \u001b[0;36m_LocationIndexer.__setitem__\u001b[0;34m(self, key, value)\u001b[0m\n\u001b[1;32m    815\u001b[0m \u001b[39mself\u001b[39m\u001b[39m.\u001b[39m_has_valid_setitem_indexer(key)\n\u001b[1;32m    817\u001b[0m iloc \u001b[39m=\u001b[39m \u001b[39mself\u001b[39m \u001b[39mif\u001b[39;00m \u001b[39mself\u001b[39m\u001b[39m.\u001b[39mname \u001b[39m==\u001b[39m \u001b[39m\"\u001b[39m\u001b[39miloc\u001b[39m\u001b[39m\"\u001b[39m \u001b[39melse\u001b[39;00m \u001b[39mself\u001b[39m\u001b[39m.\u001b[39mobj\u001b[39m.\u001b[39miloc\n\u001b[0;32m--> 818\u001b[0m iloc\u001b[39m.\u001b[39;49m_setitem_with_indexer(indexer, value, \u001b[39mself\u001b[39;49m\u001b[39m.\u001b[39;49mname)\n",
      "File \u001b[0;32m~/opt/anaconda3/envs/comp47350py38/lib/python3.8/site-packages/pandas/core/indexing.py:1795\u001b[0m, in \u001b[0;36m_iLocIndexer._setitem_with_indexer\u001b[0;34m(self, indexer, value, name)\u001b[0m\n\u001b[1;32m   1792\u001b[0m \u001b[39m# align and set the values\u001b[39;00m\n\u001b[1;32m   1793\u001b[0m \u001b[39mif\u001b[39;00m take_split_path:\n\u001b[1;32m   1794\u001b[0m     \u001b[39m# We have to operate column-wise\u001b[39;00m\n\u001b[0;32m-> 1795\u001b[0m     \u001b[39mself\u001b[39;49m\u001b[39m.\u001b[39;49m_setitem_with_indexer_split_path(indexer, value, name)\n\u001b[1;32m   1796\u001b[0m \u001b[39melse\u001b[39;00m:\n\u001b[1;32m   1797\u001b[0m     \u001b[39mself\u001b[39m\u001b[39m.\u001b[39m_setitem_single_block(indexer, value, name)\n",
      "File \u001b[0;32m~/opt/anaconda3/envs/comp47350py38/lib/python3.8/site-packages/pandas/core/indexing.py:1816\u001b[0m, in \u001b[0;36m_iLocIndexer._setitem_with_indexer_split_path\u001b[0;34m(self, indexer, value, name)\u001b[0m\n\u001b[1;32m   1813\u001b[0m \u001b[39mif\u001b[39;00m (\u001b[39misinstance\u001b[39m(value, ABCSeries) \u001b[39mand\u001b[39;00m name \u001b[39m!=\u001b[39m \u001b[39m\"\u001b[39m\u001b[39miloc\u001b[39m\u001b[39m\"\u001b[39m) \u001b[39mor\u001b[39;00m \u001b[39misinstance\u001b[39m(value, \u001b[39mdict\u001b[39m):\n\u001b[1;32m   1814\u001b[0m     \u001b[39mfrom\u001b[39;00m \u001b[39mpandas\u001b[39;00m \u001b[39mimport\u001b[39;00m Series\n\u001b[0;32m-> 1816\u001b[0m     value \u001b[39m=\u001b[39m \u001b[39mself\u001b[39;49m\u001b[39m.\u001b[39;49m_align_series(indexer, Series(value))\n\u001b[1;32m   1818\u001b[0m \u001b[39m# Ensure we have something we can iterate over\u001b[39;00m\n\u001b[1;32m   1819\u001b[0m info_axis \u001b[39m=\u001b[39m indexer[\u001b[39m1\u001b[39m]\n",
      "File \u001b[0;32m~/opt/anaconda3/envs/comp47350py38/lib/python3.8/site-packages/pandas/core/indexing.py:2306\u001b[0m, in \u001b[0;36m_iLocIndexer._align_series\u001b[0;34m(self, indexer, ser, multiindex_indexer)\u001b[0m\n\u001b[1;32m   2302\u001b[0m         \u001b[39mreturn\u001b[39;00m ser\u001b[39m.\u001b[39m_values\u001b[39m.\u001b[39mcopy()\n\u001b[1;32m   2304\u001b[0m     \u001b[39mreturn\u001b[39;00m ser\u001b[39m.\u001b[39mreindex(ax)\u001b[39m.\u001b[39m_values\n\u001b[0;32m-> 2306\u001b[0m \u001b[39mraise\u001b[39;00m \u001b[39mValueError\u001b[39;00m(\u001b[39m\"\u001b[39m\u001b[39mIncompatible indexer with Series\u001b[39m\u001b[39m\"\u001b[39m)\n",
      "\u001b[0;31mValueError\u001b[0m: Incompatible indexer with Series"
     ]
    }
   ],
   "source": [
    "# for the comparison we will convert the target back to categorical\n",
    "y_train = y_train.astype(\"category\")\n",
    "#X_train[categorical_columns].columns\n",
    "\n",
    "# we will create temp dataframe for these plots, mergeing X_train and y_train\n",
    "df_temp= pd.concat([X_train, y_train], axis=1)\n",
    "\n",
    "\n",
    "# for each categorical feature create a stacked bar plot\n",
    "for categorical_feature in categorical_columns:\n",
    "    # Using code from the module lab\n",
    "\n",
    "    maxDelqEver = pd.unique(df_temp[categorical_feature].ravel())\n",
    "\n",
    "    # add new column and set values to zero\n",
    "    df_temp['percent'] = 0\n",
    "\n",
    "    #print header\n",
    "    print(\"\\n\", categorical_feature)\n",
    "    print(\"Index \\t Count\")\n",
    "\n",
    "    # for each delinquency category\n",
    "    for i in maxDelqEver:\n",
    "\n",
    "        count = df_temp[df_temp[categorical_feature] == i].count()['death_yn']\n",
    "        count_percentage = (1 / count) * 100\n",
    "\n",
    "        # print out index vs count\n",
    "        print(i, \"\\t\", count)\n",
    "\n",
    "        index_list = df_temp[df_temp[categorical_feature] == i].index.tolist()\n",
    "        for ind in index_list:\n",
    "            print(ind)  # Debugging line\n",
    "            df_temp.at[ind, 'percent'] = count_percentage\n",
    "\n",
    "    group = df_temp[['percent',categorical_feature,'death_yn']].groupby([categorical_feature,'death_yn']).sum()\n",
    "\n",
    "    my_plot = group.unstack().plot(kind='bar', stacked=True, title=f\"death_yn vs {categorical_feature}\", figsize=(15,7), grid=True)\n",
    "\n",
    "    # add legend\n",
    "    red_patch = mpatches.Patch(color='orange', label='Good')\n",
    "    blue_patch = mpatches.Patch(color='blue', label='Bad')\n",
    "    my_plot.legend(handles=[red_patch, blue_patch], frameon = True)\n",
    "\n",
    "    # add gridlines\n",
    "    plt.grid(b=True, which='major', color='#666666', linestyle='-')\n",
    "    plt.minorticks_on()\n",
    "    plt.grid(b=True, which='minor', color='#999999', linestyle='-', alpha=0.2)\n",
    "\n",
    "    # add labels\n",
    "    my_plot.set_xlabel(\"Delinquency index\")\n",
    "    my_plot.set_ylabel(\"% Risk\")\n",
    "    my_plot.set_ylim([0,100])\n",
    "\n",
    "# drop 'percent' that was used only for stacked bar plot\n",
    "df_temp = df_temp.drop(\"percent\", 1)"
   ]
  }
 ],
 "metadata": {
  "kernelspec": {
   "display_name": "comp47350py38",
   "language": "python",
   "name": "python3"
  },
  "language_info": {
   "codemirror_mode": {
    "name": "ipython",
    "version": 3
   },
   "file_extension": ".py",
   "mimetype": "text/x-python",
   "name": "python",
   "nbconvert_exporter": "python",
   "pygments_lexer": "ipython3",
   "version": "3.8.16"
  },
  "orig_nbformat": 4,
  "vscode": {
   "interpreter": {
    "hash": "13632a0cd2d42cf1a3d33146a97bdf8a96371b300caad9729a7c49f72e2a7611"
   }
  }
 },
 "nbformat": 4,
 "nbformat_minor": 2
}
