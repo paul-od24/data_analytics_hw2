{
 "cells": [
  {
   "attachments": {},
   "cell_type": "markdown",
   "metadata": {},
   "source": [
    "<h2>Data Analytics Homework 2 - David Mallon (08597596) & Paul O'Donovan (22208104)</h2>"
   ]
  },
  {
   "attachments": {},
   "cell_type": "markdown",
   "metadata": {},
   "source": [
    "Prepare a data quality report for your CSV file. "
   ]
  },
  {
   "cell_type": "code",
   "execution_count": 68,
   "metadata": {},
   "outputs": [],
   "source": [
    "import pandas as pd\n",
    "import numpy as np\n",
    "import matplotlib.pyplot as plt"
   ]
  },
  {
   "cell_type": "code",
   "execution_count": 69,
   "metadata": {},
   "outputs": [],
   "source": [
    "# Reading from a csv file, into a data frame\n",
    "df1 = pd.read_csv('covid19-cdc-22208104.csv', keep_default_na=True, delimiter=',', engine='python', skipinitialspace=True)\n",
    "\n",
    "# Reading from a csv file, into a data frame\n",
    "df2 = pd.read_csv('covid19-cdc-8597596.csv', keep_default_na=True, delimiter=',', engine='python', skipinitialspace=True)\n",
    "\n",
    "# Concatenate the data frames\n",
    "df = pd.concat([df1, df2], axis=0)"
   ]
  },
  {
   "cell_type": "code",
   "execution_count": 70,
   "metadata": {},
   "outputs": [
    {
     "name": "stdout",
     "output_type": "stream",
     "text": [
      "Number of rows and columns: (40000, 19)\n"
     ]
    },
    {
     "data": {
      "text/html": [
       "<div>\n",
       "<style scoped>\n",
       "    .dataframe tbody tr th:only-of-type {\n",
       "        vertical-align: middle;\n",
       "    }\n",
       "\n",
       "    .dataframe tbody tr th {\n",
       "        vertical-align: top;\n",
       "    }\n",
       "\n",
       "    .dataframe thead th {\n",
       "        text-align: right;\n",
       "    }\n",
       "</style>\n",
       "<table border=\"1\" class=\"dataframe\">\n",
       "  <thead>\n",
       "    <tr style=\"text-align: right;\">\n",
       "      <th></th>\n",
       "      <th>case_month</th>\n",
       "      <th>res_state</th>\n",
       "      <th>state_fips_code</th>\n",
       "      <th>res_county</th>\n",
       "      <th>county_fips_code</th>\n",
       "      <th>age_group</th>\n",
       "      <th>sex</th>\n",
       "      <th>race</th>\n",
       "      <th>ethnicity</th>\n",
       "      <th>case_positive_specimen_interval</th>\n",
       "      <th>case_onset_interval</th>\n",
       "      <th>process</th>\n",
       "      <th>exposure_yn</th>\n",
       "      <th>current_status</th>\n",
       "      <th>symptom_status</th>\n",
       "      <th>hosp_yn</th>\n",
       "      <th>icu_yn</th>\n",
       "      <th>death_yn</th>\n",
       "      <th>underlying_conditions_yn</th>\n",
       "    </tr>\n",
       "  </thead>\n",
       "  <tbody>\n",
       "    <tr>\n",
       "      <th>0</th>\n",
       "      <td>2021-04</td>\n",
       "      <td>IL</td>\n",
       "      <td>17.0</td>\n",
       "      <td>COOK</td>\n",
       "      <td>17031.0</td>\n",
       "      <td>50 to 64 years</td>\n",
       "      <td>Male</td>\n",
       "      <td>White</td>\n",
       "      <td>Hispanic/Latino</td>\n",
       "      <td>1.0</td>\n",
       "      <td>0.0</td>\n",
       "      <td>Missing</td>\n",
       "      <td>Missing</td>\n",
       "      <td>Laboratory-confirmed case</td>\n",
       "      <td>Missing</td>\n",
       "      <td>Yes</td>\n",
       "      <td>Missing</td>\n",
       "      <td>Yes</td>\n",
       "      <td>NaN</td>\n",
       "    </tr>\n",
       "    <tr>\n",
       "      <th>1</th>\n",
       "      <td>2020-04</td>\n",
       "      <td>MA</td>\n",
       "      <td>25.0</td>\n",
       "      <td>SUFFOLK</td>\n",
       "      <td>25025.0</td>\n",
       "      <td>65+ years</td>\n",
       "      <td>Male</td>\n",
       "      <td>White</td>\n",
       "      <td>Non-Hispanic/Latino</td>\n",
       "      <td>0.0</td>\n",
       "      <td>NaN</td>\n",
       "      <td>Missing</td>\n",
       "      <td>Missing</td>\n",
       "      <td>Laboratory-confirmed case</td>\n",
       "      <td>Missing</td>\n",
       "      <td>Yes</td>\n",
       "      <td>Missing</td>\n",
       "      <td>Yes</td>\n",
       "      <td>NaN</td>\n",
       "    </tr>\n",
       "    <tr>\n",
       "      <th>2</th>\n",
       "      <td>2020-11</td>\n",
       "      <td>PA</td>\n",
       "      <td>42.0</td>\n",
       "      <td>PHILADELPHIA</td>\n",
       "      <td>42101.0</td>\n",
       "      <td>65+ years</td>\n",
       "      <td>Female</td>\n",
       "      <td>White</td>\n",
       "      <td>Unknown</td>\n",
       "      <td>0.0</td>\n",
       "      <td>NaN</td>\n",
       "      <td>Missing</td>\n",
       "      <td>Yes</td>\n",
       "      <td>Laboratory-confirmed case</td>\n",
       "      <td>Symptomatic</td>\n",
       "      <td>Unknown</td>\n",
       "      <td>Unknown</td>\n",
       "      <td>Yes</td>\n",
       "      <td>NaN</td>\n",
       "    </tr>\n",
       "    <tr>\n",
       "      <th>3</th>\n",
       "      <td>2021-12</td>\n",
       "      <td>NY</td>\n",
       "      <td>36.0</td>\n",
       "      <td>QUEENS</td>\n",
       "      <td>36081.0</td>\n",
       "      <td>65+ years</td>\n",
       "      <td>Female</td>\n",
       "      <td>Asian</td>\n",
       "      <td>Non-Hispanic/Latino</td>\n",
       "      <td>0.0</td>\n",
       "      <td>NaN</td>\n",
       "      <td>Missing</td>\n",
       "      <td>Missing</td>\n",
       "      <td>Laboratory-confirmed case</td>\n",
       "      <td>Unknown</td>\n",
       "      <td>Yes</td>\n",
       "      <td>Yes</td>\n",
       "      <td>Yes</td>\n",
       "      <td>Yes</td>\n",
       "    </tr>\n",
       "    <tr>\n",
       "      <th>4</th>\n",
       "      <td>2022-01</td>\n",
       "      <td>AZ</td>\n",
       "      <td>4.0</td>\n",
       "      <td>MARICOPA</td>\n",
       "      <td>4013.0</td>\n",
       "      <td>65+ years</td>\n",
       "      <td>Male</td>\n",
       "      <td>White</td>\n",
       "      <td>Non-Hispanic/Latino</td>\n",
       "      <td>NaN</td>\n",
       "      <td>NaN</td>\n",
       "      <td>Missing</td>\n",
       "      <td>Missing</td>\n",
       "      <td>Probable Case</td>\n",
       "      <td>Missing</td>\n",
       "      <td>Missing</td>\n",
       "      <td>Missing</td>\n",
       "      <td>Yes</td>\n",
       "      <td>NaN</td>\n",
       "    </tr>\n",
       "  </tbody>\n",
       "</table>\n",
       "</div>"
      ],
      "text/plain": [
       "  case_month res_state  state_fips_code    res_county  county_fips_code  \\\n",
       "0    2021-04        IL             17.0          COOK           17031.0   \n",
       "1    2020-04        MA             25.0       SUFFOLK           25025.0   \n",
       "2    2020-11        PA             42.0  PHILADELPHIA           42101.0   \n",
       "3    2021-12        NY             36.0        QUEENS           36081.0   \n",
       "4    2022-01        AZ              4.0      MARICOPA            4013.0   \n",
       "\n",
       "        age_group     sex   race            ethnicity  \\\n",
       "0  50 to 64 years    Male  White      Hispanic/Latino   \n",
       "1       65+ years    Male  White  Non-Hispanic/Latino   \n",
       "2       65+ years  Female  White              Unknown   \n",
       "3       65+ years  Female  Asian  Non-Hispanic/Latino   \n",
       "4       65+ years    Male  White  Non-Hispanic/Latino   \n",
       "\n",
       "   case_positive_specimen_interval  case_onset_interval  process exposure_yn  \\\n",
       "0                              1.0                  0.0  Missing     Missing   \n",
       "1                              0.0                  NaN  Missing     Missing   \n",
       "2                              0.0                  NaN  Missing         Yes   \n",
       "3                              0.0                  NaN  Missing     Missing   \n",
       "4                              NaN                  NaN  Missing     Missing   \n",
       "\n",
       "              current_status symptom_status  hosp_yn   icu_yn death_yn  \\\n",
       "0  Laboratory-confirmed case        Missing      Yes  Missing      Yes   \n",
       "1  Laboratory-confirmed case        Missing      Yes  Missing      Yes   \n",
       "2  Laboratory-confirmed case    Symptomatic  Unknown  Unknown      Yes   \n",
       "3  Laboratory-confirmed case        Unknown      Yes      Yes      Yes   \n",
       "4              Probable Case        Missing  Missing  Missing      Yes   \n",
       "\n",
       "  underlying_conditions_yn  \n",
       "0                      NaN  \n",
       "1                      NaN  \n",
       "2                      NaN  \n",
       "3                      Yes  \n",
       "4                      NaN  "
      ]
     },
     "execution_count": 70,
     "metadata": {},
     "output_type": "execute_result"
    }
   ],
   "source": [
    "# Check how many rows and columns this dataframe has\n",
    "print(\"Number of rows and columns:\", df.shape)\n",
    "\n",
    "# Show first 5 rows of data frame\n",
    "# The rows are indexed starting from 0\n",
    "df.head(5)"
   ]
  },
  {
   "cell_type": "code",
   "execution_count": 71,
   "metadata": {},
   "outputs": [
    {
     "name": "stdout",
     "output_type": "stream",
     "text": [
      "<class 'pandas.core.frame.DataFrame'>\n",
      "Int64Index: 40000 entries, 0 to 19999\n",
      "Data columns (total 19 columns):\n",
      " #   Column                           Non-Null Count  Dtype  \n",
      "---  ------                           --------------  -----  \n",
      " 0   case_month                       40000 non-null  object \n",
      " 1   res_state                        39999 non-null  object \n",
      " 2   state_fips_code                  39999 non-null  float64\n",
      " 3   res_county                       37702 non-null  object \n",
      " 4   county_fips_code                 37702 non-null  float64\n",
      " 5   age_group                        39740 non-null  object \n",
      " 6   sex                              39234 non-null  object \n",
      " 7   race                             35303 non-null  object \n",
      " 8   ethnicity                        34875 non-null  object \n",
      " 9   case_positive_specimen_interval  20865 non-null  float64\n",
      " 10  case_onset_interval              17552 non-null  float64\n",
      " 11  process                          40000 non-null  object \n",
      " 12  exposure_yn                      40000 non-null  object \n",
      " 13  current_status                   40000 non-null  object \n",
      " 14  symptom_status                   40000 non-null  object \n",
      " 15  hosp_yn                          40000 non-null  object \n",
      " 16  icu_yn                           40000 non-null  object \n",
      " 17  death_yn                         40000 non-null  object \n",
      " 18  underlying_conditions_yn         3495 non-null   object \n",
      "dtypes: float64(4), object(15)\n",
      "memory usage: 6.1+ MB\n"
     ]
    }
   ],
   "source": [
    "#Get a summary of columns\n",
    "df.info()"
   ]
  },
  {
   "cell_type": "code",
   "execution_count": 72,
   "metadata": {},
   "outputs": [
    {
     "data": {
      "text/html": [
       "<div>\n",
       "<style scoped>\n",
       "    .dataframe tbody tr th:only-of-type {\n",
       "        vertical-align: middle;\n",
       "    }\n",
       "\n",
       "    .dataframe tbody tr th {\n",
       "        vertical-align: top;\n",
       "    }\n",
       "\n",
       "    .dataframe thead th {\n",
       "        text-align: right;\n",
       "    }\n",
       "</style>\n",
       "<table border=\"1\" class=\"dataframe\">\n",
       "  <thead>\n",
       "    <tr style=\"text-align: right;\">\n",
       "      <th></th>\n",
       "      <th>count</th>\n",
       "      <th>mean</th>\n",
       "      <th>std</th>\n",
       "      <th>min</th>\n",
       "      <th>25%</th>\n",
       "      <th>50%</th>\n",
       "      <th>75%</th>\n",
       "      <th>max</th>\n",
       "    </tr>\n",
       "  </thead>\n",
       "  <tbody>\n",
       "    <tr>\n",
       "      <th>state_fips_code</th>\n",
       "      <td>39999.0</td>\n",
       "      <td>29.556239</td>\n",
       "      <td>13.341753</td>\n",
       "      <td>1.0</td>\n",
       "      <td>19.0</td>\n",
       "      <td>34.0</td>\n",
       "      <td>37.0</td>\n",
       "      <td>78.0</td>\n",
       "    </tr>\n",
       "    <tr>\n",
       "      <th>county_fips_code</th>\n",
       "      <td>37702.0</td>\n",
       "      <td>29578.939605</td>\n",
       "      <td>13211.869250</td>\n",
       "      <td>1001.0</td>\n",
       "      <td>18163.0</td>\n",
       "      <td>34017.0</td>\n",
       "      <td>37183.0</td>\n",
       "      <td>56039.0</td>\n",
       "    </tr>\n",
       "    <tr>\n",
       "      <th>case_positive_specimen_interval</th>\n",
       "      <td>20865.0</td>\n",
       "      <td>0.194201</td>\n",
       "      <td>2.312371</td>\n",
       "      <td>-90.0</td>\n",
       "      <td>0.0</td>\n",
       "      <td>0.0</td>\n",
       "      <td>0.0</td>\n",
       "      <td>94.0</td>\n",
       "    </tr>\n",
       "    <tr>\n",
       "      <th>case_onset_interval</th>\n",
       "      <td>17552.0</td>\n",
       "      <td>-0.057714</td>\n",
       "      <td>1.800305</td>\n",
       "      <td>-60.0</td>\n",
       "      <td>0.0</td>\n",
       "      <td>0.0</td>\n",
       "      <td>0.0</td>\n",
       "      <td>69.0</td>\n",
       "    </tr>\n",
       "  </tbody>\n",
       "</table>\n",
       "</div>"
      ],
      "text/plain": [
       "                                   count          mean           std     min  \\\n",
       "state_fips_code                  39999.0     29.556239     13.341753     1.0   \n",
       "county_fips_code                 37702.0  29578.939605  13211.869250  1001.0   \n",
       "case_positive_specimen_interval  20865.0      0.194201      2.312371   -90.0   \n",
       "case_onset_interval              17552.0     -0.057714      1.800305   -60.0   \n",
       "\n",
       "                                     25%      50%      75%      max  \n",
       "state_fips_code                     19.0     34.0     37.0     78.0  \n",
       "county_fips_code                 18163.0  34017.0  37183.0  56039.0  \n",
       "case_positive_specimen_interval      0.0      0.0      0.0     94.0  \n",
       "case_onset_interval                  0.0      0.0      0.0     69.0  "
      ]
     },
     "execution_count": 72,
     "metadata": {},
     "output_type": "execute_result"
    }
   ],
   "source": [
    "df.describe().T"
   ]
  },
  {
   "attachments": {},
   "cell_type": "markdown",
   "metadata": {},
   "source": [
    "Per the above results, I am missing 2298 pieces of information for county_fips_code. This is fine in my opinion as I have the almost full 39999 pieces of information for state_fips_code which will suffice for the purposes of this examination. The county_fips_code is not crucial and is sufficiently replaced and supplemented by the state_fips_code data.\n",
    "\n",
    "In relation to the missing / blank data for case_positive_specimen_interval, I will consider both sets of data in section 2 (my data quality plan) as I will consider their inclusion, possible amendments/corrections and any links that can be made with other provided information."
   ]
  },
  {
   "cell_type": "code",
   "execution_count": 73,
   "metadata": {},
   "outputs": [
    {
     "data": {
      "text/plain": [
       "Index(['case_month', 'res_state', 'state_fips_code', 'res_county',\n",
       "       'county_fips_code', 'age_group', 'sex', 'race', 'ethnicity',\n",
       "       'case_positive_specimen_interval', 'case_onset_interval', 'process',\n",
       "       'exposure_yn', 'current_status', 'symptom_status', 'hosp_yn', 'icu_yn',\n",
       "       'death_yn', 'underlying_conditions_yn'],\n",
       "      dtype='object')"
      ]
     },
     "execution_count": 73,
     "metadata": {},
     "output_type": "execute_result"
    }
   ],
   "source": [
    "# Look at column names. Ensure there are not spaces in or after the name\n",
    "df.columns"
   ]
  },
  {
   "attachments": {},
   "cell_type": "markdown",
   "metadata": {},
   "source": [
    "Neither the state_fips_code and county_fips_code data represents a continuous range of values, but instead represent specific states and counties respectively, which are both categorical attributes. Both these datasets are better treated as categorical variables, which will help us understand the distribution of the data and any relationships or patterns that may exist between the state codes and other variables in the dataset."
   ]
  },
  {
   "cell_type": "code",
   "execution_count": 74,
   "metadata": {},
   "outputs": [
    {
     "name": "stdout",
     "output_type": "stream",
     "text": [
      "<class 'pandas.core.frame.DataFrame'>\n",
      "Int64Index: 40000 entries, 0 to 19999\n",
      "Data columns (total 19 columns):\n",
      " #   Column                           Non-Null Count  Dtype   \n",
      "---  ------                           --------------  -----   \n",
      " 0   case_month                       40000 non-null  category\n",
      " 1   res_state                        39999 non-null  category\n",
      " 2   state_fips_code                  39999 non-null  category\n",
      " 3   res_county                       37702 non-null  category\n",
      " 4   county_fips_code                 37702 non-null  category\n",
      " 5   age_group                        39740 non-null  category\n",
      " 6   sex                              39234 non-null  category\n",
      " 7   race                             35303 non-null  category\n",
      " 8   ethnicity                        34875 non-null  category\n",
      " 9   case_positive_specimen_interval  20865 non-null  float64 \n",
      " 10  case_onset_interval              17552 non-null  float64 \n",
      " 11  process                          40000 non-null  category\n",
      " 12  exposure_yn                      40000 non-null  category\n",
      " 13  current_status                   40000 non-null  category\n",
      " 14  symptom_status                   40000 non-null  category\n",
      " 15  hosp_yn                          40000 non-null  category\n",
      " 16  icu_yn                           40000 non-null  category\n",
      " 17  death_yn                         40000 non-null  category\n",
      " 18  underlying_conditions_yn         3495 non-null   category\n",
      "dtypes: category(17), float64(2)\n",
      "memory usage: 1.7 MB\n"
     ]
    }
   ],
   "source": [
    "df[\"state_fips_code\"] = df[\"state_fips_code\"].astype(\"object\")\n",
    "df[\"county_fips_code\"] = df[\"county_fips_code\"].astype(\"object\")\n",
    "\n",
    "#Select all columns of type 'object'\n",
    "object_columns = df.select_dtypes(['object']).columns\n",
    "\n",
    "#Convert selected columns to type 'category' purely for ease of reference when reviewing categorical and continuous characteristics.\n",
    "for column in object_columns:\n",
    "    df[column] = df[column].astype('category')\n",
    "\n",
    "df.info()"
   ]
  },
  {
   "attachments": {},
   "cell_type": "markdown",
   "metadata": {},
   "source": [
    "Convert the features to their appropriate data types (e.g., decide which features are more appropriate as continuous and which ones as categorical types)."
   ]
  },
  {
   "attachments": {},
   "cell_type": "markdown",
   "metadata": {},
   "source": [
    "Look for duplicate rows and columns. Consider whether it makes sense to keep them or drop them."
   ]
  },
  {
   "cell_type": "code",
   "execution_count": 75,
   "metadata": {},
   "outputs": [
    {
     "name": "stdout",
     "output_type": "stream",
     "text": [
      "Number of duplicate (excluding first original occurence) rows in the table is:  3639\n",
      "Number of duplicate rows (including first original occurence) in the table is: 6178\n"
     ]
    }
   ],
   "source": [
    "#Print the number of duplicates, without the original rows that were duplicated\n",
    "print('Number of duplicate (excluding first original occurence) rows in the table is: ', df.duplicated().sum())\n",
    "\n",
    "# Check for duplicate rows. \n",
    "# Use \"keep=False\" to mark all duplicates as true, including the original rows that were duplicated.\n",
    "print('Number of duplicate rows (including first original occurence) in the table is:', df[df.duplicated(keep=False)].shape[0])"
   ]
  },
  {
   "cell_type": "code",
   "execution_count": 76,
   "metadata": {},
   "outputs": [],
   "source": [
    "view_duplicates = df[df.duplicated(keep = False)]\n",
    "view_duplicates.to_csv('duplicate_columns.csv', index=False)"
   ]
  },
  {
   "attachments": {},
   "cell_type": "markdown",
   "metadata": {},
   "source": [
    "Having reviewed the duplicates (as set out in a separate csv I prepared), I was satisfied that these should stay in the dataframe. As the information contained therein has been intentionally anonymised, there are not enough specific identifiers relating to each patient's data which would justify removing the duplicates. I believe it better to err on the side of caution and not remove what could (and probably is) information recorded which is identical but actually relates to different individuals, rather than remove valid information on the assumption that it is a duplicate entry."
   ]
  },
  {
   "cell_type": "code",
   "execution_count": 77,
   "metadata": {},
   "outputs": [
    {
     "name": "stdout",
     "output_type": "stream",
     "text": [
      "      case_month res_state state_fips_code   res_county county_fips_code  \\\n",
      "235      2020-03        NY            36.0       QUEENS          36081.0   \n",
      "274      2021-01        CA             6.0  LOS ANGELES           6037.0   \n",
      "289      2020-12        CA             6.0  LOS ANGELES           6037.0   \n",
      "373      2021-01        FL            12.0   MIAMI-DADE          12086.0   \n",
      "476      2021-12        IL            17.0         COOK          17031.0   \n",
      "...          ...       ...             ...          ...              ...   \n",
      "19933    2020-07        TX            48.0      TARRANT          48439.0   \n",
      "19934    2022-01        IN            18.0       MARION          18097.0   \n",
      "19941    2021-12        NJ            34.0        OCEAN          34029.0   \n",
      "19944    2022-01        IN            18.0       GIBSON          18051.0   \n",
      "19972    2022-01        MN            27.0     HENNEPIN          27053.0   \n",
      "\n",
      "            age_group      sex     race            ethnicity  \\\n",
      "235         65+ years   Female    Black  Non-Hispanic/Latino   \n",
      "274         65+ years     Male    White      Hispanic/Latino   \n",
      "289    18 to 49 years     Male    White      Hispanic/Latino   \n",
      "373         65+ years   Female    Black  Non-Hispanic/Latino   \n",
      "476         65+ years     Male    White  Non-Hispanic/Latino   \n",
      "...               ...      ...      ...                  ...   \n",
      "19933  50 to 64 years     Male  Unknown              Unknown   \n",
      "19934  18 to 49 years   Female    Black  Non-Hispanic/Latino   \n",
      "19941  50 to 64 years   Female    White  Non-Hispanic/Latino   \n",
      "19944  18 to 49 years     Male    White  Non-Hispanic/Latino   \n",
      "19972  18 to 49 years  Unknown  Unknown              Missing   \n",
      "\n",
      "       case_positive_specimen_interval  case_onset_interval  process  \\\n",
      "235                                0.0                  NaN  Missing   \n",
      "274                                NaN                  NaN  Missing   \n",
      "289                                NaN                  NaN  Missing   \n",
      "373                                0.0                  NaN  Missing   \n",
      "476                                1.0                  0.0  Missing   \n",
      "...                                ...                  ...      ...   \n",
      "19933                              NaN                  NaN  Missing   \n",
      "19934                              0.0                  NaN  Missing   \n",
      "19941                              0.0                  NaN  Missing   \n",
      "19944                              0.0                  NaN  Missing   \n",
      "19972                              0.0                  NaN  Missing   \n",
      "\n",
      "      exposure_yn             current_status symptom_status  hosp_yn   icu_yn  \\\n",
      "235       Missing  Laboratory-confirmed case        Unknown      Yes  Unknown   \n",
      "274       Missing  Laboratory-confirmed case        Unknown      Yes  Unknown   \n",
      "289       Missing  Laboratory-confirmed case        Unknown      Yes      Yes   \n",
      "373       Missing  Laboratory-confirmed case        Missing      Yes  Missing   \n",
      "476       Missing  Laboratory-confirmed case        Missing      Yes  Missing   \n",
      "...           ...                        ...            ...      ...      ...   \n",
      "19933     Missing  Laboratory-confirmed case        Missing  Missing  Missing   \n",
      "19934     Missing  Laboratory-confirmed case        Missing       No  Missing   \n",
      "19941     Missing  Laboratory-confirmed case        Missing       No  Missing   \n",
      "19944     Missing  Laboratory-confirmed case        Missing       No  Missing   \n",
      "19972     Missing              Probable Case        Missing  Missing  Missing   \n",
      "\n",
      "      death_yn underlying_conditions_yn  \n",
      "235        Yes                      Yes  \n",
      "274        Yes                      NaN  \n",
      "289        Yes                      NaN  \n",
      "373        Yes                      NaN  \n",
      "476        Yes                      NaN  \n",
      "...        ...                      ...  \n",
      "19933       No                      NaN  \n",
      "19934       No                      NaN  \n",
      "19941       No                      NaN  \n",
      "19944       No                      NaN  \n",
      "19972       No                      NaN  \n",
      "\n",
      "[3639 rows x 19 columns]\n"
     ]
    }
   ],
   "source": [
    "# quick view of duplicates\n",
    "\n",
    "duplicate = df[df.duplicated()]\n",
    " \n",
    "print(duplicate)\n",
    " "
   ]
  },
  {
   "attachments": {},
   "cell_type": "markdown",
   "metadata": {},
   "source": [
    "Checking if any duplicate columns present.\n",
    "\n",
    "Function sourced from https://www.geeksforgeeks.org/how-to-find-drop-duplicate-columns-in-a-pandas-dataframe/ "
   ]
  },
  {
   "cell_type": "code",
   "execution_count": 78,
   "metadata": {},
   "outputs": [],
   "source": [
    "def getDuplicateColumns(df):\n",
    "    duplicateColumnNames = set()\n",
    " \n",
    "    for x in range(df.shape[1]):\n",
    "        col = df.iloc[:, x]\n",
    "        for y in range(x + 1, df.shape[1]):\n",
    "            otherCol = df.iloc[:, y]\n",
    "            if col.equals(otherCol):\n",
    "                duplicateColumnNames.add(df.columns.values[y])\n",
    "    return list(duplicateColumnNames)\n",
    "\n",
    "duplicateColNames = getDuplicateColumns(df)\n",
    "\n",
    "for column in duplicateColNames:\n",
    "    print('Column Name : ', column)"
   ]
  },
  {
   "cell_type": "code",
   "execution_count": 79,
   "metadata": {},
   "outputs": [
    {
     "name": "stdout",
     "output_type": "stream",
     "text": [
      "Number of duplicate (excluding first) columns in the table is:  0\n",
      "Number of duplicate (including first) columns in the table is:  0\n"
     ]
    }
   ],
   "source": [
    "# Check for duplicate columns - additional test\n",
    "#First transpose the df so columns become rows, then apply the same check as above\n",
    "dfT = df.T\n",
    "print(\"Number of duplicate (excluding first) columns in the table is: \", dfT.duplicated().sum())\n",
    "print(\"Number of duplicate (including first) columns in the table is: \",  dfT[dfT.duplicated(keep=False)].shape[0])"
   ]
  },
  {
   "attachments": {},
   "cell_type": "markdown",
   "metadata": {},
   "source": [
    "Look for constant columns. Consider whether it makes sense to keep them or drop them."
   ]
  },
  {
   "cell_type": "code",
   "execution_count": 80,
   "metadata": {},
   "outputs": [
    {
     "name": "stdout",
     "output_type": "stream",
     "text": [
      "Constant columns:  []\n"
     ]
    }
   ],
   "source": [
    "# Check the number of unique values in each column\n",
    "nunique_values = df.nunique()\n",
    "\n",
    "constant_columns = nunique_values[nunique_values == 1].index\n",
    "constant_column_names = list(constant_columns)\n",
    "\n",
    "# Print the names of the constant columns\n",
    "print(\"Constant columns: \", constant_column_names)"
   ]
  },
  {
   "cell_type": "code",
   "execution_count": 81,
   "metadata": {},
   "outputs": [
    {
     "name": "stdout",
     "output_type": "stream",
     "text": [
      "Constant columns:  []\n"
     ]
    }
   ],
   "source": [
    "c = [c for c in df.columns if len(set(df[c])) == 1]\n",
    "print (\"Constant columns: \", c)"
   ]
  },
  {
   "attachments": {},
   "cell_type": "markdown",
   "metadata": {},
   "source": [
    "There are no 100% constant columns present in my dataset, therefore no adjustment is required.\n",
    "I have rechecked the data basing it on a 90% occurrence (when excluding empty cells) for completeness per the below cells and I would opine that the information in both the 'process' and 'underlying_conditions_yn' cells warrant inclusion in the cleaned dataframe due to weighing up the results against the number of empty cells with missing information. Further examination of these features is undertaken in part two of this assignment."
   ]
  },
  {
   "cell_type": "code",
   "execution_count": 82,
   "metadata": {},
   "outputs": [
    {
     "name": "stdout",
     "output_type": "stream",
     "text": [
      "Constant columns:  ['process', 'underlying_conditions_yn']\n"
     ]
    }
   ],
   "source": [
    "#Calculate the percentage of each value in each column, including empty cells\n",
    "value_percentages = df.apply(lambda x: x.value_counts(normalize=True, dropna=False).max())\n",
    "\n",
    "#Select only the columns where the maximum value percentage is >= 0.95\n",
    "constant_columns = value_percentages[value_percentages >= 0.90].index\n",
    "\n",
    "#List the names of the constant columns\n",
    "constant_column_names = list(constant_columns)\n",
    "\n",
    "#Print the names of the constant columns\n",
    "print(\"Constant columns: \", constant_column_names)"
   ]
  },
  {
   "attachments": {},
   "cell_type": "markdown",
   "metadata": {},
   "source": [
    "The information from both 'process' and 'underlying_conditions_yn' is still usefull for consideration based on the above commentary. This information will also be useful when preparing my data quality plan and expected results from the bar plots. Further commentary is provided on my logic is provided in both my Data Quality Report and Data Quality Plan."
   ]
  },
  {
   "cell_type": "code",
   "execution_count": 83,
   "metadata": {},
   "outputs": [
    {
     "data": {
      "text/plain": [
       "Missing                            36463\n",
       "Clinical evaluation                 1663\n",
       "Laboratory reported                  730\n",
       "Routine surveillance                 460\n",
       "Multiple                             292\n",
       "Contact tracing of case patient      134\n",
       "Unknown                              113\n",
       "Provider reported                     80\n",
       "Other                                 64\n",
       "Autopsy                                1\n",
       "Name: process, dtype: int64"
      ]
     },
     "execution_count": 83,
     "metadata": {},
     "output_type": "execute_result"
    }
   ],
   "source": [
    "df['process'].value_counts()"
   ]
  },
  {
   "cell_type": "code",
   "execution_count": 84,
   "metadata": {},
   "outputs": [
    {
     "data": {
      "text/plain": [
       "Yes    3444\n",
       "No       51\n",
       "Name: underlying_conditions_yn, dtype: int64"
      ]
     },
     "execution_count": 84,
     "metadata": {},
     "output_type": "execute_result"
    }
   ],
   "source": [
    "df['underlying_conditions_yn'].value_counts()"
   ]
  },
  {
   "attachments": {},
   "cell_type": "markdown",
   "metadata": {},
   "source": [
    "# Q. Save your updated/cleaned data frame to a new csv file."
   ]
  },
  {
   "cell_type": "code",
   "execution_count": 85,
   "metadata": {},
   "outputs": [],
   "source": [
    "df.to_csv('cleaned_data_hw2.csv', index=False)"
   ]
  },
  {
   "cell_type": "code",
   "execution_count": 87,
   "metadata": {},
   "outputs": [
    {
     "name": "stdout",
     "output_type": "stream",
     "text": [
      "<class 'pandas.core.frame.DataFrame'>\n",
      "RangeIndex: 40000 entries, 0 to 39999\n",
      "Data columns (total 19 columns):\n",
      " #   Column                           Non-Null Count  Dtype   \n",
      "---  ------                           --------------  -----   \n",
      " 0   case_month                       40000 non-null  category\n",
      " 1   res_state                        39999 non-null  category\n",
      " 2   state_fips_code                  39999 non-null  category\n",
      " 3   res_county                       37702 non-null  category\n",
      " 4   county_fips_code                 37702 non-null  category\n",
      " 5   age_group                        39740 non-null  category\n",
      " 6   sex                              39234 non-null  category\n",
      " 7   race                             35303 non-null  category\n",
      " 8   ethnicity                        34875 non-null  category\n",
      " 9   case_positive_specimen_interval  20865 non-null  float64 \n",
      " 10  case_onset_interval              17552 non-null  float64 \n",
      " 11  process                          40000 non-null  category\n",
      " 12  exposure_yn                      40000 non-null  category\n",
      " 13  current_status                   40000 non-null  category\n",
      " 14  symptom_status                   40000 non-null  category\n",
      " 15  hosp_yn                          40000 non-null  category\n",
      " 16  icu_yn                           40000 non-null  category\n",
      " 17  death_yn                         40000 non-null  category\n",
      " 18  underlying_conditions_yn         3495 non-null   category\n",
      "dtypes: category(17), float64(2)\n",
      "memory usage: 1.4 MB\n"
     ]
    }
   ],
   "source": [
    "# Reading cleaned data into a data frame\n",
    "df = pd.read_csv('cleaned_data_hw2.csv')\n",
    "df[\"state_fips_code\"] = df[\"state_fips_code\"].astype(\"object\")\n",
    "df[\"county_fips_code\"] = df[\"county_fips_code\"].astype(\"object\")\n",
    "\n",
    "#Select all columns of type 'object'\n",
    "object_columns = df.select_dtypes(['object']).columns\n",
    "\n",
    "#Convert selected columns to type 'category' purely for ease of reference when reviewing categorical and continuous characteristics.\n",
    "for column in object_columns:\n",
    "    df[column] = df[column].astype('category')\n",
    "\n",
    "df.info()"
   ]
  }
 ],
 "metadata": {
  "kernelspec": {
   "display_name": "comp47350py38",
   "language": "python",
   "name": "python3"
  },
  "language_info": {
   "codemirror_mode": {
    "name": "ipython",
    "version": 3
   },
   "file_extension": ".py",
   "mimetype": "text/x-python",
   "name": "python",
   "nbconvert_exporter": "python",
   "pygments_lexer": "ipython3",
   "version": "3.8.16"
  },
  "orig_nbformat": 4,
  "vscode": {
   "interpreter": {
    "hash": "13632a0cd2d42cf1a3d33146a97bdf8a96371b300caad9729a7c49f72e2a7611"
   }
  }
 },
 "nbformat": 4,
 "nbformat_minor": 2
}
